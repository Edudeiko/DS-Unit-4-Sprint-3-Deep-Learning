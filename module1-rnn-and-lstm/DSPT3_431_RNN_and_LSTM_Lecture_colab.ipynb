{
  "nbformat": 4,
  "nbformat_minor": 0,
  "metadata": {
    "accelerator": "GPU",
    "colab": {
      "name": "DSPT3_431_RNN_and_LSTM_Lecture_colab.ipynb",
      "provenance": [],
      "collapsed_sections": [],
      "include_colab_link": true
    },
    "kernelspec": {
      "display_name": "U4-S3-DL (Python 3)",
      "language": "python",
      "name": "u4-s3-dl"
    },
    "language_info": {
      "codemirror_mode": {
        "name": "ipython",
        "version": 3
      },
      "file_extension": ".py",
      "mimetype": "text/x-python",
      "name": "python",
      "nbconvert_exporter": "python",
      "pygments_lexer": "ipython3",
      "version": "3.7.0"
    }
  },
  "cells": [
    {
      "cell_type": "markdown",
      "metadata": {
        "id": "view-in-github",
        "colab_type": "text"
      },
      "source": [
        "<a href=\"https://colab.research.google.com/github/Edudeiko/DS-Unit-4-Sprint-3-Deep-Learning/blob/master/module1-rnn-and-lstm/DSPT3_431_RNN_and_LSTM_Lecture_colab.ipynb\" target=\"_parent\"><img src=\"https://colab.research.google.com/assets/colab-badge.svg\" alt=\"Open In Colab\"/></a>"
      ]
    },
    {
      "cell_type": "markdown",
      "metadata": {
        "colab_type": "text",
        "id": "Ldr0HZ193GKb"
      },
      "source": [
        "Lambda School Data Science\n",
        "\n",
        "*Unit 4, Sprint 3, Module 1*\n",
        "\n",
        "---\n"
      ]
    },
    {
      "cell_type": "markdown",
      "metadata": {
        "id": "kBKXAqp-Cuwi",
        "colab_type": "text"
      },
      "source": [
        "# Recurrent Neural Networks (RNNs) and Long Short Term Memory (LSTM) (Prepare)\n",
        "\n",
        "<img src=\"https://media.giphy.com/media/l2JJu8U8SoHhQEnoQ/giphy.gif\" width=480 height=356>\n",
        "<br></br>\n",
        "<br></br>"
      ]
    },
    {
      "cell_type": "markdown",
      "metadata": {
        "id": "3dIOepfLCuwk",
        "colab_type": "text"
      },
      "source": [
        "## Learning Objectives\n",
        "- <a href=\"#p1\">Part 1: </a>Describe Neural Networks used for modeling sequences\n",
        "- <a href=\"#p2\">Part 2: </a>Apply a LSTM to a text generation problem using Keras"
      ]
    },
    {
      "cell_type": "markdown",
      "metadata": {
        "colab_type": "text",
        "id": "_IizNKWLomoA"
      },
      "source": [
        "## Overview\n",
        "\n",
        "> \"Yesterday's just a memory - tomorrow is never what it's supposed to be.\" -- Bob Dylan\n",
        "\n",
        "Wish you could save [Time In A Bottle](https://www.youtube.com/watch?v=AnWWj6xOleY)? With statistics you can do the next best thing - understand how data varies over time (or any sequential order), and use the order/time dimension predictively.\n",
        "\n",
        "A sequence is just any enumerated collection - order counts, and repetition is allowed. Python lists are a good elemental example - `[1, 2, 2, -1]` is a valid list, and is different from `[1, 2, -1, 2]`. The data structures we tend to use (e.g. NumPy arrays) are often built on this fundamental structure.\n",
        "\n",
        "A time series is data where you have not just the order but some actual continuous marker for where they lie \"in time\" - this could be a date, a timestamp, [Unix time](https://en.wikipedia.org/wiki/Unix_time), or something else. All time series are also sequences, and for some techniques you may just consider their order and not \"how far apart\" the entries are (if you have particularly consistent data collected at regular intervals it may not matter)."
      ]
    },
    {
      "cell_type": "markdown",
      "metadata": {
        "colab_type": "text",
        "id": "44QZgrPUe3-Y"
      },
      "source": [
        "# Neural Networks for Sequences (Learn)"
      ]
    },
    {
      "cell_type": "markdown",
      "metadata": {
        "colab_type": "text",
        "id": "2oBHQZd4Cuwp"
      },
      "source": [
        "## Overview\n",
        "\n",
        "There's plenty more to \"traditional\" time series, but the latest and greatest technique for sequence data is recurrent neural networks. A recurrence relation in math is an equation that uses recursion to define a sequence - a famous example is the Fibonacci numbers:\n",
        "\n",
        "$F_n = F_{n-1} + F_{n-2}$\n",
        "\n",
        "For formal math you also need a base case $F_0=1, F_1=1$, and then the rest builds from there. But for neural networks what we're really talking about are loops:\n",
        "\n",
        "![Recurrent neural network](https://upload.wikimedia.org/wikipedia/commons/b/b5/Recurrent_neural_network_unfold.svg)\n",
        "\n",
        "The hidden layers have edges (output) going back to their own input - this loop means that for any time `t` the training is at least partly based on the output from time `t-1`. The entire network is being represented on the left, and you can unfold the network explicitly to see how it behaves at any given `t`.\n",
        "\n",
        "Different units can have this \"loop\", but a particularly successful one is the long short-term memory unit (LSTM):\n",
        "\n",
        "![Long short-term memory unit](https://upload.wikimedia.org/wikipedia/commons/thumb/6/63/Long_Short-Term_Memory.svg/1024px-Long_Short-Term_Memory.svg.png)\n",
        "\n",
        "There's a lot going on here - in a nutshell, the calculus still works out and backpropagation can still be implemented. The advantage (ane namesake) of LSTM is that it can generally put more weight on recent (short-term) events while not completely losing older (long-term) information.\n",
        "\n",
        "After enough iterations, a typical neural network will start calculating prior gradients that are so small they effectively become zero - this is the [vanishing gradient problem](https://en.wikipedia.org/wiki/Vanishing_gradient_problem), and is what RNN with LSTM addresses. Pay special attention to the $c_t$ parameters and how they pass through the unit to get an intuition for how this problem is solved.\n",
        "\n",
        "So why are these cool? One particularly compelling application is actually not time series but language modeling - language is inherently ordered data (letters/words go one after another, and the order *matters*). [The Unreasonable Effectiveness of Recurrent Neural Networks](https://karpathy.github.io/2015/05/21/rnn-effectiveness/) is a famous and worth reading blog post on this topic.\n",
        "\n",
        "For our purposes, let's use TensorFlow and Keras to train RNNs with natural language. Resources:\n",
        "\n",
        "- https://github.com/keras-team/keras/blob/master/examples/imdb_lstm.py\n",
        "- https://keras.io/layers/recurrent/#lstm\n",
        "- http://adventuresinmachinelearning.com/keras-lstm-tutorial/\n",
        "\n",
        "Note that `tensorflow.contrib` [also has an implementation of RNN/LSTM](https://www.tensorflow.org/tutorials/sequences/recurrent)."
      ]
    },
    {
      "cell_type": "markdown",
      "metadata": {
        "colab_type": "text",
        "id": "eWrQllf8WEd-"
      },
      "source": [
        "## Follow Along\n",
        "\n",
        "Sequences come in many shapes and forms from stock prices to text. We'll focus on text, because modeling text as a sequence is a strength of Neural Networks. Let's start with a simple classification task using a TensorFlow tutorial. "
      ]
    },
    {
      "cell_type": "markdown",
      "metadata": {
        "colab_type": "text",
        "id": "Q5TahwGeCuws"
      },
      "source": [
        "### RNN/LSTM Sentiment Classification with Keras"
      ]
    },
    {
      "cell_type": "code",
      "metadata": {
        "id": "YAr27Pi9DUpA",
        "colab_type": "code",
        "colab": {
          "base_uri": "https://localhost:8080/",
          "height": 296
        },
        "outputId": "aaa1027d-857b-49b5-bd6a-4e24d9dba28f"
      },
      "source": [
        "# Check that we have a GPU instance of Colab\n",
        "gpu_info = !nvidia-smi\n",
        "gpu_info = '\\n'.join(gpu_info)\n",
        "if gpu_info.find('failed') >= 0:\n",
        "  print('Select the Runtime → \"Change runtime type\" menu to enable a GPU accelerator, ')\n",
        "  print('and then re-execute this cell.')\n",
        "else:\n",
        "  print(gpu_info)"
      ],
      "execution_count": 1,
      "outputs": [
        {
          "output_type": "stream",
          "text": [
            "Wed Apr 22 02:25:11 2020       \n",
            "+-----------------------------------------------------------------------------+\n",
            "| NVIDIA-SMI 440.64.00    Driver Version: 418.67       CUDA Version: 10.1     |\n",
            "|-------------------------------+----------------------+----------------------+\n",
            "| GPU  Name        Persistence-M| Bus-Id        Disp.A | Volatile Uncorr. ECC |\n",
            "| Fan  Temp  Perf  Pwr:Usage/Cap|         Memory-Usage | GPU-Util  Compute M. |\n",
            "|===============================+======================+======================|\n",
            "|   0  Tesla P4            Off  | 00000000:00:04.0 Off |                    0 |\n",
            "| N/A   34C    P8     7W /  75W |      0MiB /  7611MiB |      0%      Default |\n",
            "+-------------------------------+----------------------+----------------------+\n",
            "                                                                               \n",
            "+-----------------------------------------------------------------------------+\n",
            "| Processes:                                                       GPU Memory |\n",
            "|  GPU       PID   Type   Process name                             Usage      |\n",
            "|=============================================================================|\n",
            "|  No running processes found                                                 |\n",
            "+-----------------------------------------------------------------------------+\n"
          ],
          "name": "stdout"
        }
      ]
    },
    {
      "cell_type": "code",
      "metadata": {
        "colab_type": "code",
        "id": "Ti23G0gRe3kr",
        "colab": {
          "base_uri": "https://localhost:8080/",
          "height": 151
        },
        "outputId": "5d177f06-eed8-433d-8e02-675a781fb552"
      },
      "source": [
        "'''\n",
        "#Trains an LSTM model on the IMDB sentiment classification task.\n",
        "The dataset is actually too small for LSTM to be of any advantage\n",
        "compared to simpler, much faster methods such as TF-IDF + LogReg.\n",
        "**Notes**\n",
        "- RNNs are tricky. Choice of batch size is important,\n",
        "choice of loss and optimizer is critical, etc.\n",
        "Some configurations won't converge.\n",
        "- LSTM loss decrease patterns during training can be quite different\n",
        "from what you see with CNNs/MLPs/etc.\n",
        "'''\n",
        "from __future__ import print_function\n",
        "\n",
        "import numpy as np\n",
        "from tensorflow.keras.preprocessing import sequence\n",
        "from tensorflow.keras.models import Sequential\n",
        "from tensorflow.keras.layers import Dense, Embedding, Dropout, SimpleRNN, LSTM\n",
        "from tensorflow.keras.datasets import imdb\n",
        "import matplotlib.pyplot as plt\n",
        "import seaborn as sns\n",
        "sns.set()\n",
        "\n",
        "# Set top N words and batch_size\n",
        "max_features = 20000\n",
        "batch_size = 32\n",
        "\n",
        "print('Loading data...')\n",
        "(x_train, y_train), (x_test, y_test) = imdb.load_data(num_words=max_features)\n",
        "print(len(x_train), 'train sequences')\n",
        "print(len(x_test), 'test sequences')\n",
        "\n",
        "# Map for readable classnames\n",
        "class_names = [\"Negative\", \"Positive\"]"
      ],
      "execution_count": 2,
      "outputs": [
        {
          "output_type": "stream",
          "text": [
            "/usr/local/lib/python3.6/dist-packages/statsmodels/tools/_testing.py:19: FutureWarning: pandas.util.testing is deprecated. Use the functions in the public API at pandas.testing instead.\n",
            "  import pandas.util.testing as tm\n"
          ],
          "name": "stderr"
        },
        {
          "output_type": "stream",
          "text": [
            "Loading data...\n",
            "Downloading data from https://storage.googleapis.com/tensorflow/tf-keras-datasets/imdb.npz\n",
            "17465344/17464789 [==============================] - 0s 0us/step\n",
            "25000 train sequences\n",
            "25000 test sequences\n"
          ],
          "name": "stdout"
        }
      ]
    },
    {
      "cell_type": "code",
      "metadata": {
        "id": "GRyRNVcCuUdW",
        "colab_type": "code",
        "colab": {
          "base_uri": "https://localhost:8080/",
          "height": 1000
        },
        "outputId": "0ade7acc-82d1-486c-f9df-1f6ae6fa0c82"
      },
      "source": [
        "x_train[0]"
      ],
      "execution_count": 3,
      "outputs": [
        {
          "output_type": "execute_result",
          "data": {
            "text/plain": [
              "[1,\n",
              " 14,\n",
              " 22,\n",
              " 16,\n",
              " 43,\n",
              " 530,\n",
              " 973,\n",
              " 1622,\n",
              " 1385,\n",
              " 65,\n",
              " 458,\n",
              " 4468,\n",
              " 66,\n",
              " 3941,\n",
              " 4,\n",
              " 173,\n",
              " 36,\n",
              " 256,\n",
              " 5,\n",
              " 25,\n",
              " 100,\n",
              " 43,\n",
              " 838,\n",
              " 112,\n",
              " 50,\n",
              " 670,\n",
              " 2,\n",
              " 9,\n",
              " 35,\n",
              " 480,\n",
              " 284,\n",
              " 5,\n",
              " 150,\n",
              " 4,\n",
              " 172,\n",
              " 112,\n",
              " 167,\n",
              " 2,\n",
              " 336,\n",
              " 385,\n",
              " 39,\n",
              " 4,\n",
              " 172,\n",
              " 4536,\n",
              " 1111,\n",
              " 17,\n",
              " 546,\n",
              " 38,\n",
              " 13,\n",
              " 447,\n",
              " 4,\n",
              " 192,\n",
              " 50,\n",
              " 16,\n",
              " 6,\n",
              " 147,\n",
              " 2025,\n",
              " 19,\n",
              " 14,\n",
              " 22,\n",
              " 4,\n",
              " 1920,\n",
              " 4613,\n",
              " 469,\n",
              " 4,\n",
              " 22,\n",
              " 71,\n",
              " 87,\n",
              " 12,\n",
              " 16,\n",
              " 43,\n",
              " 530,\n",
              " 38,\n",
              " 76,\n",
              " 15,\n",
              " 13,\n",
              " 1247,\n",
              " 4,\n",
              " 22,\n",
              " 17,\n",
              " 515,\n",
              " 17,\n",
              " 12,\n",
              " 16,\n",
              " 626,\n",
              " 18,\n",
              " 19193,\n",
              " 5,\n",
              " 62,\n",
              " 386,\n",
              " 12,\n",
              " 8,\n",
              " 316,\n",
              " 8,\n",
              " 106,\n",
              " 5,\n",
              " 4,\n",
              " 2223,\n",
              " 5244,\n",
              " 16,\n",
              " 480,\n",
              " 66,\n",
              " 3785,\n",
              " 33,\n",
              " 4,\n",
              " 130,\n",
              " 12,\n",
              " 16,\n",
              " 38,\n",
              " 619,\n",
              " 5,\n",
              " 25,\n",
              " 124,\n",
              " 51,\n",
              " 36,\n",
              " 135,\n",
              " 48,\n",
              " 25,\n",
              " 1415,\n",
              " 33,\n",
              " 6,\n",
              " 22,\n",
              " 12,\n",
              " 215,\n",
              " 28,\n",
              " 77,\n",
              " 52,\n",
              " 5,\n",
              " 14,\n",
              " 407,\n",
              " 16,\n",
              " 82,\n",
              " 10311,\n",
              " 8,\n",
              " 4,\n",
              " 107,\n",
              " 117,\n",
              " 5952,\n",
              " 15,\n",
              " 256,\n",
              " 4,\n",
              " 2,\n",
              " 7,\n",
              " 3766,\n",
              " 5,\n",
              " 723,\n",
              " 36,\n",
              " 71,\n",
              " 43,\n",
              " 530,\n",
              " 476,\n",
              " 26,\n",
              " 400,\n",
              " 317,\n",
              " 46,\n",
              " 7,\n",
              " 4,\n",
              " 12118,\n",
              " 1029,\n",
              " 13,\n",
              " 104,\n",
              " 88,\n",
              " 4,\n",
              " 381,\n",
              " 15,\n",
              " 297,\n",
              " 98,\n",
              " 32,\n",
              " 2071,\n",
              " 56,\n",
              " 26,\n",
              " 141,\n",
              " 6,\n",
              " 194,\n",
              " 7486,\n",
              " 18,\n",
              " 4,\n",
              " 226,\n",
              " 22,\n",
              " 21,\n",
              " 134,\n",
              " 476,\n",
              " 26,\n",
              " 480,\n",
              " 5,\n",
              " 144,\n",
              " 30,\n",
              " 5535,\n",
              " 18,\n",
              " 51,\n",
              " 36,\n",
              " 28,\n",
              " 224,\n",
              " 92,\n",
              " 25,\n",
              " 104,\n",
              " 4,\n",
              " 226,\n",
              " 65,\n",
              " 16,\n",
              " 38,\n",
              " 1334,\n",
              " 88,\n",
              " 12,\n",
              " 16,\n",
              " 283,\n",
              " 5,\n",
              " 16,\n",
              " 4472,\n",
              " 113,\n",
              " 103,\n",
              " 32,\n",
              " 15,\n",
              " 16,\n",
              " 5345,\n",
              " 19,\n",
              " 178,\n",
              " 32]"
            ]
          },
          "metadata": {
            "tags": []
          },
          "execution_count": 3
        }
      ]
    },
    {
      "cell_type": "markdown",
      "metadata": {
        "id": "G9ee6v9SCuw7",
        "colab_type": "text"
      },
      "source": [
        "Reviews in the IMDB dataset have been encoded as a sequence of integers. Luckily the dataset also contains an index for converting the reviews back into human readable form."
      ]
    },
    {
      "cell_type": "code",
      "metadata": {
        "id": "fkyiIrTTCuw8",
        "colab_type": "code",
        "colab": {
          "base_uri": "https://localhost:8080/",
          "height": 49
        },
        "outputId": "585617b0-ba7b-4450-a4d1-1035cddd51f9"
      },
      "source": [
        "# Get the word index from the dataset\n",
        "word_index = imdb.get_word_index()\n",
        "\n",
        "# Ensure that \"special\" words are mapped into human readable terms \n",
        "word_index = {k:(v+3) for k,v in word_index.items()}\n",
        "word_index[\"<PAD>\"] = 0\n",
        "word_index[\"<START>\"] = 1\n",
        "word_index[\"<UNKNOWN>\"] = 2\n",
        "word_index[\"<UNUSED>\"] = 3\n",
        "\n",
        "# Perform reverse word lookup and make it callable\n",
        "reverse_word_index = dict([(value, key) for (key, value) in word_index.items()])\n",
        "def decode_review(text):\n",
        "    return ' '.join([reverse_word_index.get(i, '?') for i in text])"
      ],
      "execution_count": 4,
      "outputs": [
        {
          "output_type": "stream",
          "text": [
            "Downloading data from https://storage.googleapis.com/tensorflow/tf-keras-datasets/imdb_word_index.json\n",
            "1646592/1641221 [==============================] - 0s 0us/step\n"
          ],
          "name": "stdout"
        }
      ]
    },
    {
      "cell_type": "code",
      "metadata": {
        "id": "avOw7xlJCuxH",
        "colab_type": "code",
        "colab": {
          "base_uri": "https://localhost:8080/",
          "height": 217
        },
        "outputId": "114232d4-2bed-4bcd-d12a-7b689988fc0d"
      },
      "source": [
        "# Concatonate test and training datasets\n",
        "allreviews = np.concatenate((x_train, x_test), axis=0)\n",
        "\n",
        "# Review lengths across test and training whole datasets\n",
        "print(\"Maximum review length: {}\".format(len(max((allreviews), key=len))))\n",
        "print(\"Minimum review length: {}\".format(len(min((allreviews), key=len))))\n",
        "result = [len(x) for x in allreviews]\n",
        "print(\"Mean review length: {}\".format(np.mean(result)))\n",
        "\n",
        "# Print a review and it's class as stored in the dataset. Replace the number\n",
        "# to select a different review.\n",
        "print(\"\")\n",
        "print(\"Machine readable Review\")\n",
        "print(\"  Review Text: \" + str(x_train[60]))\n",
        "print(\"  Review Sentiment: \" + str(y_train[60]))\n",
        "\n",
        "# Print a review and it's class in human readable format. Replace the number\n",
        "# to select a different review.\n",
        "print(\"\")\n",
        "print(\"Human Readable Review\")\n",
        "print(\"  Review Text: \" + decode_review(x_train[60]))\n",
        "print(\"  Review Sentiment: \" + class_names[y_train[60]])"
      ],
      "execution_count": 5,
      "outputs": [
        {
          "output_type": "stream",
          "text": [
            "Maximum review length: 2494\n",
            "Minimum review length: 7\n",
            "Mean review length: 234.75892\n",
            "\n",
            "Machine readable Review\n",
            "  Review Text: [1, 13, 219, 14, 33, 4, 12180, 22, 1413, 12, 16, 373, 175, 2711, 1115, 1026, 430, 939, 16, 23, 2444, 25, 43, 697, 89, 12, 16, 170, 8, 130, 262, 19, 32, 4, 665, 7, 4, 2, 322, 5, 4, 1520, 7, 4, 86, 250, 10, 10, 4, 249, 173, 16, 4, 3891, 6, 19, 4, 167, 564, 5, 564, 1325, 36, 805, 8, 216, 638, 17, 11076, 21, 25, 100, 376, 507, 4, 2110, 15, 79, 125, 23, 567, 13, 2134, 233, 36, 4852, 2, 5, 81, 1672, 10, 10, 92, 437, 129, 58, 13, 69, 8, 401, 61, 1432, 39, 1286, 46, 7, 12]\n",
            "  Review Sentiment: 0\n",
            "\n",
            "Human Readable Review\n",
            "  Review Text: <START> i saw this at the edinburgh film festival it was awful every clichéd violent rich boy fantasy was on display you just knew how it was going to end especially with all the shots of the <UNKNOWN> wife and the rape of the first girl br br the worst part was the q a with the director writer and writer producer they tried to come across as intellectuals but you could tell they're the types that get off on violence i bet anything they frequent <UNKNOWN> and do drugs br br don't waste your time i had to keep my boyfriend from walking out of it\n",
            "  Review Sentiment: Negative\n"
          ],
          "name": "stdout"
        }
      ]
    },
    {
      "cell_type": "code",
      "metadata": {
        "id": "EMO49oLaCuxO",
        "colab_type": "code",
        "colab": {
          "base_uri": "https://localhost:8080/",
          "height": 392
        },
        "outputId": "6790afcb-ded5-490b-dc52-6a0ebb179dc2"
      },
      "source": [
        "# Get the lengths for positive and negative reviews\n",
        "all_labels = np.concatenate([y_train, y_test])\n",
        "positive = np.array(result)[all_labels==1]\n",
        "negative = np.array(result)[all_labels==0]\n",
        "\n",
        "plt.figure(figsize=(8,6))\n",
        "sns.distplot(positive, label='Positive Reviews', hist=False)\n",
        "sns.distplot(negative, label='Negative Reviews', hist=False)\n",
        "plt.title('Distribution of Positive and Negative Review Lengths', fontsize=14)\n",
        "plt.legend();"
      ],
      "execution_count": 6,
      "outputs": [
        {
          "output_type": "display_data",
          "data": {
            "image/png": "[encoded data removed]",
            "text/plain": [
              "<Figure size 576x432 with 1 Axes>"
            ]
          },
          "metadata": {
            "tags": []
          }
        }
      ]
    },
    {
      "cell_type": "code",
      "metadata": {
        "id": "C4f6qStECuxV",
        "colab_type": "code",
        "colab": {
          "base_uri": "https://localhost:8080/",
          "height": 65
        },
        "outputId": "ee7c07c3-c1b1-44da-8fd8-1b1b066f8adf"
      },
      "source": [
        "# If you want to pad the end of the sequences you can set padding='post'.\n",
        "maxlen = 300 # you can make it longer or shorter\n",
        "\n",
        "print('Pad Sequences (samples x time)')\n",
        "x_train = sequence.pad_sequences(x_train, maxlen=maxlen)\n",
        "x_test = sequence.pad_sequences(x_test, maxlen=maxlen)\n",
        "print('x_train shape: ', x_train.shape)\n",
        "print('x_test shape: ', x_test.shape)"
      ],
      "execution_count": 7,
      "outputs": [
        {
          "output_type": "stream",
          "text": [
            "Pad Sequences (samples x time)\n",
            "x_train shape:  (25000, 300)\n",
            "x_test shape:  (25000, 300)\n"
          ],
          "name": "stdout"
        }
      ]
    },
    {
      "cell_type": "code",
      "metadata": {
        "id": "nybI8LQoCuxc",
        "colab_type": "code",
        "colab": {
          "base_uri": "https://localhost:8080/",
          "height": 576
        },
        "outputId": "2f5adc61-e673-4882-b873-fd7c70a0896d"
      },
      "source": [
        "x_train[60]"
      ],
      "execution_count": 8,
      "outputs": [
        {
          "output_type": "execute_result",
          "data": {
            "text/plain": [
              "array([    0,     0,     0,     0,     0,     0,     0,     0,     0,\n",
              "           0,     0,     0,     0,     0,     0,     0,     0,     0,\n",
              "           0,     0,     0,     0,     0,     0,     0,     0,     0,\n",
              "           0,     0,     0,     0,     0,     0,     0,     0,     0,\n",
              "           0,     0,     0,     0,     0,     0,     0,     0,     0,\n",
              "           0,     0,     0,     0,     0,     0,     0,     0,     0,\n",
              "           0,     0,     0,     0,     0,     0,     0,     0,     0,\n",
              "           0,     0,     0,     0,     0,     0,     0,     0,     0,\n",
              "           0,     0,     0,     0,     0,     0,     0,     0,     0,\n",
              "           0,     0,     0,     0,     0,     0,     0,     0,     0,\n",
              "           0,     0,     0,     0,     0,     0,     0,     0,     0,\n",
              "           0,     0,     0,     0,     0,     0,     0,     0,     0,\n",
              "           0,     0,     0,     0,     0,     0,     0,     0,     0,\n",
              "           0,     0,     0,     0,     0,     0,     0,     0,     0,\n",
              "           0,     0,     0,     0,     0,     0,     0,     0,     0,\n",
              "           0,     0,     0,     0,     0,     0,     0,     0,     0,\n",
              "           0,     0,     0,     0,     0,     0,     0,     0,     0,\n",
              "           0,     0,     0,     0,     0,     0,     0,     0,     0,\n",
              "           0,     0,     0,     0,     0,     0,     0,     0,     0,\n",
              "           0,     0,     0,     0,     0,     0,     0,     0,     0,\n",
              "           0,     0,     0,     0,     0,     0,     0,     0,     0,\n",
              "           0,     0,     0,     0,     1,    13,   219,    14,    33,\n",
              "           4, 12180,    22,  1413,    12,    16,   373,   175,  2711,\n",
              "        1115,  1026,   430,   939,    16,    23,  2444,    25,    43,\n",
              "         697,    89,    12,    16,   170,     8,   130,   262,    19,\n",
              "          32,     4,   665,     7,     4,     2,   322,     5,     4,\n",
              "        1520,     7,     4,    86,   250,    10,    10,     4,   249,\n",
              "         173,    16,     4,  3891,     6,    19,     4,   167,   564,\n",
              "           5,   564,  1325,    36,   805,     8,   216,   638,    17,\n",
              "       11076,    21,    25,   100,   376,   507,     4,  2110,    15,\n",
              "          79,   125,    23,   567,    13,  2134,   233,    36,  4852,\n",
              "           2,     5,    81,  1672,    10,    10,    92,   437,   129,\n",
              "          58,    13,    69,     8,   401,    61,  1432,    39,  1286,\n",
              "          46,     7,    12], dtype=int32)"
            ]
          },
          "metadata": {
            "tags": []
          },
          "execution_count": 8
        }
      ]
    },
    {
      "cell_type": "markdown",
      "metadata": {
        "id": "bOEKyaEHCuxk",
        "colab_type": "text"
      },
      "source": [
        "Let's get a baseline performance for Multi-Layer Perceptron"
      ]
    },
    {
      "cell_type": "code",
      "metadata": {
        "id": "XBUSBFm6Cuxm",
        "colab_type": "code",
        "colab": {
          "base_uri": "https://localhost:8080/",
          "height": 280
        },
        "outputId": "c899fc4b-dedb-43f7-8340-183de536874a"
      },
      "source": [
        "mlp = Sequential()\n",
        "mlp.add(Embedding(max_features, 128))\n",
        "mlp.add(Dense(128))\n",
        "mlp.add(Dropout(0.25))\n",
        "mlp.add(Dense(1, activation='sigmoid'))\n",
        "\n",
        "mlp.compile(loss='binary_crossentropy',\n",
        "              optimizer='adam', \n",
        "              metrics=['accuracy'])\n",
        "\n",
        "mlp.summary()"
      ],
      "execution_count": 9,
      "outputs": [
        {
          "output_type": "stream",
          "text": [
            "Model: \"sequential\"\n",
            "_________________________________________________________________\n",
            "Layer (type)                 Output Shape              Param #   \n",
            "=================================================================\n",
            "embedding (Embedding)        (None, None, 128)         2560000   \n",
            "_________________________________________________________________\n",
            "dense (Dense)                (None, None, 128)         16512     \n",
            "_________________________________________________________________\n",
            "dropout (Dropout)            (None, None, 128)         0         \n",
            "_________________________________________________________________\n",
            "dense_1 (Dense)              (None, None, 1)           129       \n",
            "=================================================================\n",
            "Total params: 2,576,641\n",
            "Trainable params: 2,576,641\n",
            "Non-trainable params: 0\n",
            "_________________________________________________________________\n"
          ],
          "name": "stdout"
        }
      ]
    },
    {
      "cell_type": "code",
      "metadata": {
        "id": "rRI98fWGCuxu",
        "colab_type": "code",
        "colab": {
          "base_uri": "https://localhost:8080/",
          "height": 181
        },
        "outputId": "b01b31d1-031f-4b2a-f6e7-5c4c4e67ed3b"
      },
      "source": [
        "mlp_history = mlp.fit(x_train, y_train,\n",
        "                      batch_size=batch_size, \n",
        "                      epochs=5, \n",
        "                      validation_data=(x_test, y_test))"
      ],
      "execution_count": 10,
      "outputs": [
        {
          "output_type": "stream",
          "text": [
            "Epoch 1/5\n",
            "782/782 [==============================] - 24s 31ms/step - loss: 0.6864 - accuracy: 0.5307 - val_loss: 0.6855 - val_accuracy: 0.5295\n",
            "Epoch 2/5\n",
            "782/782 [==============================] - 23s 30ms/step - loss: 0.6830 - accuracy: 0.5362 - val_loss: 0.6862 - val_accuracy: 0.5270\n",
            "Epoch 3/5\n",
            "782/782 [==============================] - 23s 30ms/step - loss: 0.6824 - accuracy: 0.5377 - val_loss: 0.6856 - val_accuracy: 0.5353\n",
            "Epoch 4/5\n",
            "782/782 [==============================] - 23s 30ms/step - loss: 0.6821 - accuracy: 0.5373 - val_loss: 0.6861 - val_accuracy: 0.5282\n",
            "Epoch 5/5\n",
            "782/782 [==============================] - 23s 30ms/step - loss: 0.6819 - accuracy: 0.5356 - val_loss: 0.6860 - val_accuracy: 0.5352\n"
          ],
          "name": "stdout"
        }
      ]
    },
    {
      "cell_type": "code",
      "metadata": {
        "id": "FhcEBXfkCux3",
        "colab_type": "code",
        "colab": {
          "base_uri": "https://localhost:8080/",
          "height": 300
        },
        "outputId": "f27100cd-7041-4081-aace-c71cf0f7c9c9"
      },
      "source": [
        "# Plot training & validation loss values\n",
        "plt.plot(mlp_history.history['loss'])\n",
        "plt.plot(mlp_history.history['val_loss'])\n",
        "plt.title('Model loss')\n",
        "plt.ylabel('Loss')\n",
        "plt.xlabel('Epoch')\n",
        "plt.legend(['Train', 'Test'], loc='upper left')\n",
        "plt.show();"
      ],
      "execution_count": 11,
      "outputs": [
        {
          "output_type": "display_data",
          "data": {
            "image/png": "[encoded data removed]",
            "text/plain": [
              "<Figure size 432x288 with 1 Axes>"
            ]
          },
          "metadata": {
            "tags": []
          }
        }
      ]
    },
    {
      "cell_type": "markdown",
      "metadata": {
        "id": "NEjRVsiYCuyB",
        "colab_type": "text"
      },
      "source": [
        "Let's try using the SimpleRNN layers instead of Dense"
      ]
    },
    {
      "cell_type": "code",
      "metadata": {
        "id": "fZq_QzLcCuyD",
        "colab_type": "code",
        "colab": {
          "base_uri": "https://localhost:8080/",
          "height": 280
        },
        "outputId": "7d4830f8-fc5f-450f-e120-c1fdca21b4c9"
      },
      "source": [
        "rnn = Sequential()\n",
        "rnn.add(Embedding(max_features, 128))\n",
        "rnn.add(SimpleRNN(128))\n",
        "rnn.add(Dropout(0.25))\n",
        "rnn.add(Dense(1, activation='sigmoid'))\n",
        "\n",
        "rnn.compile(loss='binary_crossentropy',\n",
        "              optimizer='adam', \n",
        "              metrics=['accuracy'])\n",
        "\n",
        "rnn.summary()"
      ],
      "execution_count": 12,
      "outputs": [
        {
          "output_type": "stream",
          "text": [
            "Model: \"sequential_1\"\n",
            "_________________________________________________________________\n",
            "Layer (type)                 Output Shape              Param #   \n",
            "=================================================================\n",
            "embedding_1 (Embedding)      (None, None, 128)         2560000   \n",
            "_________________________________________________________________\n",
            "simple_rnn (SimpleRNN)       (None, 128)               32896     \n",
            "_________________________________________________________________\n",
            "dropout_1 (Dropout)          (None, 128)               0         \n",
            "_________________________________________________________________\n",
            "dense_2 (Dense)              (None, 1)                 129       \n",
            "=================================================================\n",
            "Total params: 2,593,025\n",
            "Trainable params: 2,593,025\n",
            "Non-trainable params: 0\n",
            "_________________________________________________________________\n"
          ],
          "name": "stdout"
        }
      ]
    },
    {
      "cell_type": "code",
      "metadata": {
        "id": "4R1jDCd9CuyL",
        "colab_type": "code",
        "colab": {
          "base_uri": "https://localhost:8080/",
          "height": 181
        },
        "outputId": "1201071d-2b48-4b70-9ac9-1779e19d8e29"
      },
      "source": [
        "rnn_history = mlp.fit(x_train, y_train,\n",
        "                      batch_size=batch_size, \n",
        "                      epochs=5, \n",
        "                      validation_data=(x_test, y_test))"
      ],
      "execution_count": 13,
      "outputs": [
        {
          "output_type": "stream",
          "text": [
            "Epoch 1/5\n",
            "782/782 [==============================] - 23s 29ms/step - loss: 0.6817 - accuracy: 0.5385 - val_loss: 0.6863 - val_accuracy: 0.5286\n",
            "Epoch 2/5\n",
            "782/782 [==============================] - 23s 29ms/step - loss: 0.6817 - accuracy: 0.5364 - val_loss: 0.6859 - val_accuracy: 0.5354\n",
            "Epoch 3/5\n",
            "782/782 [==============================] - 23s 30ms/step - loss: 0.6815 - accuracy: 0.5367 - val_loss: 0.6863 - val_accuracy: 0.5297\n",
            "Epoch 4/5\n",
            "782/782 [==============================] - 23s 29ms/step - loss: 0.6815 - accuracy: 0.5377 - val_loss: 0.6861 - val_accuracy: 0.5353\n",
            "Epoch 5/5\n",
            "782/782 [==============================] - 23s 29ms/step - loss: 0.6814 - accuracy: 0.5372 - val_loss: 0.6858 - val_accuracy: 0.5352\n"
          ],
          "name": "stdout"
        }
      ]
    },
    {
      "cell_type": "code",
      "metadata": {
        "id": "y5lEvIhXCuyT",
        "colab_type": "code",
        "colab": {
          "base_uri": "https://localhost:8080/",
          "height": 300
        },
        "outputId": "54746db3-ce9a-449c-d196-660eb7278288"
      },
      "source": [
        "# Plot training & validation loss values\n",
        "plt.plot(rnn_history.history['loss'])\n",
        "plt.plot(rnn_history.history['val_loss'])\n",
        "plt.title('Model loss')\n",
        "plt.ylabel('Loss')\n",
        "plt.xlabel('Epoch')\n",
        "plt.legend(['Train', 'Test'], loc='upper left')\n",
        "plt.show();"
      ],
      "execution_count": 14,
      "outputs": [
        {
          "output_type": "display_data",
          "data": {
            "image/png": "[encoded data removed]",
            "text/plain": [
              "<Figure size 432x288 with 1 Axes>"
            ]
          },
          "metadata": {
            "tags": []
          }
        }
      ]
    },
    {
      "cell_type": "markdown",
      "metadata": {
        "id": "hf4Ge9R7Cuya",
        "colab_type": "text"
      },
      "source": [
        "Lastly, Let's try replacing the SimpleRNN layer with LSTM."
      ]
    },
    {
      "cell_type": "code",
      "metadata": {
        "id": "NKeQwek0Cuyc",
        "colab_type": "code",
        "colab": {
          "base_uri": "https://localhost:8080/",
          "height": 280
        },
        "outputId": "29c78497-26b1-4377-d36c-63647b951be9"
      },
      "source": [
        "lstm = Sequential()\n",
        "lstm.add(Embedding(max_features, 128))\n",
        "lstm.add(LSTM(128), return_sequencies=True) # return_sequencies if 'Stacking'\n",
        "lstm.add(Dropout(0.25))\n",
        "# Stacking(risk of overfitting)\n",
        "lstm.add(LSTM(128)) # you can stack or not\n",
        "lstm.add(Dropout(0.25)) # you can stack or not\n",
        "lstm.add(Dense(1, activation='sigmoid'))\n",
        "\n",
        "lstm.compile(loss='binary_crossentropy',\n",
        "             optimizer='adam', \n",
        "             metrics=['accuracy'])\n",
        "\n",
        "lstm.summary()"
      ],
      "execution_count": 15,
      "outputs": [
        {
          "output_type": "stream",
          "text": [
            "Model: \"sequential_2\"\n",
            "_________________________________________________________________\n",
            "Layer (type)                 Output Shape              Param #   \n",
            "=================================================================\n",
            "embedding_2 (Embedding)      (None, None, 128)         2560000   \n",
            "_________________________________________________________________\n",
            "lstm (LSTM)                  (None, 128)               131584    \n",
            "_________________________________________________________________\n",
            "dropout_2 (Dropout)          (None, 128)               0         \n",
            "_________________________________________________________________\n",
            "dense_3 (Dense)              (None, 1)                 129       \n",
            "=================================================================\n",
            "Total params: 2,691,713\n",
            "Trainable params: 2,691,713\n",
            "Non-trainable params: 0\n",
            "_________________________________________________________________\n"
          ],
          "name": "stdout"
        }
      ]
    },
    {
      "cell_type": "code",
      "metadata": {
        "id": "rSIEOvsqCuyi",
        "colab_type": "code",
        "colab": {
          "base_uri": "https://localhost:8080/",
          "height": 531
        },
        "outputId": "0007a9f0-b023-4135-ffde-aba57d32f4d3"
      },
      "source": [
        "from tensorflow.keras.utils import plot_model\n",
        "\n",
        "plot_model(lstm, to_file='lstm.png', show_shapes=True, show_layer_names=False)"
      ],
      "execution_count": 16,
      "outputs": [
        {
          "output_type": "execute_result",
          "data": {
            "image/png": "[encoded data removed]",
            "text/plain": [
              "<IPython.core.display.Image object>"
            ]
          },
          "metadata": {
            "tags": []
          },
          "execution_count": 16
        }
      ]
    },
    {
      "cell_type": "code",
      "metadata": {
        "id": "B3JEiXrhCuyr",
        "colab_type": "code",
        "colab": {
          "base_uri": "https://localhost:8080/",
          "height": 181
        },
        "outputId": "b37caf44-be64-425c-97f1-871b4859fedc"
      },
      "source": [
        "lstm_history = lstm.fit(x_train, y_train,\n",
        "                        batch_size=batch_size, \n",
        "                        epochs=5, \n",
        "                        validation_data=(x_test, y_test))"
      ],
      "execution_count": 17,
      "outputs": [
        {
          "output_type": "stream",
          "text": [
            "Epoch 1/5\n",
            "782/782 [==============================] - 41s 52ms/step - loss: 0.4420 - accuracy: 0.7960 - val_loss: 0.3700 - val_accuracy: 0.8369\n",
            "Epoch 2/5\n",
            "782/782 [==============================] - 39s 50ms/step - loss: 0.3002 - accuracy: 0.8763 - val_loss: 0.3192 - val_accuracy: 0.8625\n",
            "Epoch 3/5\n",
            "782/782 [==============================] - 39s 50ms/step - loss: 0.1696 - accuracy: 0.9380 - val_loss: 0.3911 - val_accuracy: 0.8446\n",
            "Epoch 4/5\n",
            "782/782 [==============================] - 39s 49ms/step - loss: 0.1020 - accuracy: 0.9653 - val_loss: 0.4100 - val_accuracy: 0.8547\n",
            "Epoch 5/5\n",
            "782/782 [==============================] - 39s 50ms/step - loss: 0.0727 - accuracy: 0.9760 - val_loss: 0.5102 - val_accuracy: 0.8365\n"
          ],
          "name": "stdout"
        }
      ]
    },
    {
      "cell_type": "code",
      "metadata": {
        "id": "6Cy3N5k6Cuy0",
        "colab_type": "code",
        "colab": {
          "base_uri": "https://localhost:8080/",
          "height": 300
        },
        "outputId": "371738bf-f27c-4b46-8ec9-11f1b8e0489c"
      },
      "source": [
        "# Plot training & validation loss values\n",
        "plt.plot(lstm_history.history['loss'])\n",
        "plt.plot(lstm_history.history['val_loss'])\n",
        "plt.title('Model loss')\n",
        "plt.ylabel('Loss')\n",
        "plt.xlabel('Epoch')\n",
        "plt.legend(['Train', 'Test'], loc='upper left')\n",
        "plt.show();"
      ],
      "execution_count": 18,
      "outputs": [
        {
          "output_type": "display_data",
          "data": {
            "image/png": "[encoded data removed]",
            "text/plain": [
              "<Figure size 432x288 with 1 Axes>"
            ]
          },
          "metadata": {
            "tags": []
          }
        }
      ]
    },
    {
      "cell_type": "markdown",
      "metadata": {
        "id": "Dvlsk9X3Cuy7",
        "colab_type": "text"
      },
      "source": [
        "## Evaluate model with test data and view results"
      ]
    },
    {
      "cell_type": "code",
      "metadata": {
        "id": "gNKvdgTtCuy9",
        "colab_type": "code",
        "colab": {
          "base_uri": "https://localhost:8080/",
          "height": 217
        },
        "outputId": "f3a32d42-f5f9-43b2-de25-0dadf84b381e"
      },
      "source": [
        "# Get Model Predictions for test data\n",
        "from sklearn.metrics import classification_report\n",
        "\n",
        "# ERROR\n",
        "y_pred = np.argmax(lstm.predict(x_test), axis=-1)\n",
        "print(classification_report(y_test, y_pred, target_names=class_names))"
      ],
      "execution_count": 19,
      "outputs": [
        {
          "output_type": "stream",
          "text": [
            "              precision    recall  f1-score   support\n",
            "\n",
            "    Negative       0.50      1.00      0.67     12500\n",
            "    Positive       0.00      0.00      0.00     12500\n",
            "\n",
            "    accuracy                           0.50     25000\n",
            "   macro avg       0.25      0.50      0.33     25000\n",
            "weighted avg       0.25      0.50      0.33     25000\n",
            "\n"
          ],
          "name": "stdout"
        },
        {
          "output_type": "stream",
          "text": [
            "/usr/local/lib/python3.6/dist-packages/sklearn/metrics/_classification.py:1272: UndefinedMetricWarning: Precision and F-score are ill-defined and being set to 0.0 in labels with no predicted samples. Use `zero_division` parameter to control this behavior.\n",
            "  _warn_prf(average, modifier, msg_start, len(result))\n"
          ],
          "name": "stderr"
        }
      ]
    },
    {
      "cell_type": "code",
      "metadata": {
        "id": "FlZfCRK_4TRH",
        "colab_type": "code",
        "colab": {
          "base_uri": "https://localhost:8080/",
          "height": 32
        },
        "outputId": "1ecb9498-7313-4077-f238-7a9714f74863"
      },
      "source": [
        "25000 / (2 * (300 + 1))"
      ],
      "execution_count": 20,
      "outputs": [
        {
          "output_type": "execute_result",
          "data": {
            "text/plain": [
              "41.52823920265781"
            ]
          },
          "metadata": {
            "tags": []
          },
          "execution_count": 20
        }
      ]
    },
    {
      "cell_type": "code",
      "metadata": {
        "id": "qHD18ROZ4idN",
        "colab_type": "code",
        "colab": {
          "base_uri": "https://localhost:8080/",
          "height": 32
        },
        "outputId": "7a669fa5-1f2b-4674-a78c-44a1c7d00241"
      },
      "source": [
        "25000 / (10 * (300 + 1))"
      ],
      "execution_count": 21,
      "outputs": [
        {
          "output_type": "execute_result",
          "data": {
            "text/plain": [
              "8.305647840531561"
            ]
          },
          "metadata": {
            "tags": []
          },
          "execution_count": 21
        }
      ]
    },
    {
      "cell_type": "markdown",
      "metadata": {
        "id": "BMiPO4skCuzF",
        "colab_type": "text"
      },
      "source": [
        "## View some incorrect predictions\n",
        "\n",
        "Lets have a look at some of the incorrectly classified reviews. For readability we remove the padding."
      ]
    },
    {
      "cell_type": "code",
      "metadata": {
        "id": "-8qIWwB_CuzI",
        "colab_type": "code",
        "colab": {
          "base_uri": "https://localhost:8080/",
          "height": 234
        },
        "outputId": "a0deae32-9cb2-4393-f5fd-5103f013e4e4"
      },
      "source": [
        "predicted_classes_reshaped = np.reshape(y_pred, 25000)\n",
        "\n",
        "incorrect = np.nonzero(predicted_classes_reshaped != y_test)[0]\n",
        "\n",
        "# We select the first 10 incorrectly classified reviews\n",
        "for j, incorrect in enumerate(incorrect[0:3]):\n",
        "    \n",
        "    predicted = class_names[predicted_classes_reshaped[incorrect]]\n",
        "    actual = class_names[y_test[incorrect]]\n",
        "    human_readable_review = decode_review(x_test[incorrect])\n",
        "    \n",
        "    print(\"Incorrectly classified Test Review [\"+ str(j+1) +\"]\") \n",
        "    print(\"Test Review #\" + str(incorrect)  + \": Predicted [\"+ predicted + \"] Actual [\"+ actual + \"]\")\n",
        "    print(\"Test Review Text: \" + human_readable_review.replace(\"<PAD> \", \"\"))\n",
        "    print(\"\")"
      ],
      "execution_count": 22,
      "outputs": [
        {
          "output_type": "stream",
          "text": [
            "Incorrectly classified Test Review [1]\n",
            "Test Review #1: Predicted [Negative] Actual [Positive]\n",
            "Test Review Text: <START> this film requires a lot of patience because it focuses on mood and character development the plot is very simple and many of the scenes take place on the same set in frances austen's the sandy dennis character apartment but the film builds to a disturbing climax br br the characters create an atmosphere rife with sexual tension and psychological trickery it's very interesting that robert altman directed this considering the style and structure of his other films still the trademark altman audio style is evident here and there i think what really makes this film work is the brilliant performance by sandy dennis it's definitely one of her darker characters but she plays it so perfectly and convincingly that it's scary michael burns does a good job as the mute young man regular altman player michael murphy has a small part the <UNKNOWN> moody set fits the content of the story very well in short this movie is a powerful study of loneliness sexual repression and desperation be patient <UNKNOWN> up the atmosphere and pay attention to the wonderfully written script br br i praise robert altman this is one of his many films that deals with unconventional fascinating subject matter this film is disturbing but it's sincere and it's sure to elicit a strong emotional response from the viewer if you want to see an unusual film some might even say bizarre this is worth the time br br unfortunately it's very difficult to find in video stores you may have to buy it off the internet\n",
            "\n",
            "Incorrectly classified Test Review [2]\n",
            "Test Review #2: Predicted [Negative] Actual [Positive]\n",
            "Test Review Text: alive simultaneously while <UNKNOWN> for his part is depicted as a droll white bearded guy in the clouds who looks like he'd rather be taking a nap when <UNKNOWN> sends them a tree like god who regards them the frogs decide that this is no improvement and demand a different king irritated <UNKNOWN> sends them a <UNKNOWN> br br delighted with this formidable looking new king who towers above them the frogs welcome him with a <UNKNOWN> of <UNKNOWN> dressed <UNKNOWN> the mayor steps forward to hand him the key to the <UNKNOWN> as newsreel cameras record the event to everyone's horror the <UNKNOWN> promptly eats the mayor and then goes on a merry rampage <UNKNOWN> citizens at random a title card <UNKNOWN> reads news of the king's appetite throughout the kingdom when the now terrified frogs once more <UNKNOWN> <UNKNOWN> for help he loses his temper and showers their community with lightning bolts the moral of our story delivered by a hapless frog just before he is eaten is let well enough alone br br considering the time period when this startling little film was made and considering the fact that it was made by a russian <UNKNOWN> at the height of that beleaguered country's civil war it would be easy to see this as a parable about those events <UNKNOWN> may or may not have had <UNKNOWN> turmoil in mind when he made <UNKNOWN> but whatever prompted his choice of material the film stands as a cautionary tale of universal application <UNKNOWN> could be the soviet union italy germany or japan in the 1930s or any country of any era that lets its guard down and is overwhelmed by tyranny it's a fascinating film even a charming one in its macabre way but its message is no joke\n",
            "\n",
            "Incorrectly classified Test Review [3]\n",
            "Test Review #4: Predicted [Negative] Actual [Positive]\n",
            "Test Review Text: <START> like some other people wrote i'm a die hard mario fan and i loved this game br br this game starts slightly boring but trust me it's worth it as soon as you start your hooked the levels are fun and exiting they will hook you <UNKNOWN> your mind turns to mush i'm not kidding this game is also orchestrated and is beautifully done br br to keep this spoiler free i have to keep my mouth shut about details but please try this game it'll be worth it br br story 9 9 action 10 1 it's that good <UNKNOWN> 10 attention <UNKNOWN> 10 average 10\n",
            "\n"
          ],
          "name": "stdout"
        }
      ]
    },
    {
      "cell_type": "markdown",
      "metadata": {
        "id": "LpqxEgwcCuzQ",
        "colab_type": "text"
      },
      "source": [
        "## Run your own text against the trained model"
      ]
    },
    {
      "cell_type": "code",
      "metadata": {
        "id": "3m6scepKCuzR",
        "colab_type": "code",
        "colab": {
          "base_uri": "https://localhost:8080/",
          "height": 65
        },
        "outputId": "4cfb111b-0348-4d3d-dd4c-f880bc7ad67e"
      },
      "source": [
        "# Write your own review\n",
        "review = \"this is the best film i have ever seen it is great and fantastic and i loved it\"\n",
        "\n",
        "# Encode review (replace word with integers)\n",
        "tmp = []\n",
        "for word in review.split(\" \"):\n",
        "    tmp.append(word_index[word])\n",
        "\n",
        "# Ensure review is 300 words long (by padding or truncating)\n",
        "tmp_padded = sequence.pad_sequences([tmp], maxlen=maxlen) \n",
        "\n",
        "# Run your processed review against the trained model\n",
        "rawprediction = lstm.predict(np.array([tmp_padded][0]))[0][0]\n",
        "prediction = int(round(rawprediction))\n",
        "\n",
        "# Test the model and print the result\n",
        "print(\"Review: \" + review)\n",
        "print(\"Raw Prediction: \" + str(rawprediction))\n",
        "print(\"Predicted Class: \" + class_names[prediction])"
      ],
      "execution_count": 23,
      "outputs": [
        {
          "output_type": "stream",
          "text": [
            "Review: this is the best film i have ever seen it is great and fantastic and i loved it\n",
            "Raw Prediction: 0.9990102\n",
            "Predicted Class: Positive\n"
          ],
          "name": "stdout"
        }
      ]
    },
    {
      "cell_type": "markdown",
      "metadata": {
        "id": "e7JHtLtWCuzY",
        "colab_type": "text"
      },
      "source": [
        "## Challenge\n",
        "\n",
        "You will be expected to use an Keras LSTM for a classicification task on the *Sprint Challenge*. \n",
        "\n",
        "Reference for some of the code in the section above can be found: https://github.com/markwest1972/LSTM-Example-Google-Colaboratory/blob/master/LSTM_IMDB_Sentiment_Example.ipynb"
      ]
    },
    {
      "cell_type": "markdown",
      "metadata": {
        "colab_type": "text",
        "id": "7pETWPIe362y"
      },
      "source": [
        "# LSTM Text generation with Keras (Learn)"
      ]
    },
    {
      "cell_type": "markdown",
      "metadata": {
        "colab_type": "text",
        "id": "y9u5eH_dCuzb"
      },
      "source": [
        "## Overview\n",
        "\n",
        "What else can we do with LSTMs? Since we're analyzing the *sequence*, we can do more than classify - we can *generate* text. I'ved pulled some news stories using [newspaper](https://github.com/codelucas/newspaper/).\n",
        "\n",
        "This example is drawn from the Keras [documentation](https://keras.io/examples/lstm_text_generation/)."
      ]
    },
    {
      "cell_type": "code",
      "metadata": {
        "id": "x3yqSnwFCuzc",
        "colab_type": "code",
        "colab": {}
      },
      "source": [
        "from tensorflow.keras.callbacks import LambdaCallback\n",
        "from tensorflow.keras.models import Sequential\n",
        "from tensorflow.keras.layers import Dense, LSTM\n",
        "from tensorflow.keras.optimizers import RMSprop\n",
        "\n",
        "import numpy as np\n",
        "import random\n",
        "import sys\n",
        "import os"
      ],
      "execution_count": 0,
      "outputs": []
    },
    {
      "cell_type": "code",
      "metadata": {
        "id": "d6T798otCuzi",
        "colab_type": "code",
        "colab": {}
      },
      "source": [
        "data_files = os.listdir('./articles')"
      ],
      "execution_count": 0,
      "outputs": []
    },
    {
      "cell_type": "code",
      "metadata": {
        "id": "Eco2kPAaCuzq",
        "colab_type": "code",
        "colab": {}
      },
      "source": [
        "# Read in Data\n",
        "data = []\n",
        "\n",
        "for file in data_files:\n",
        "    if file[-3:] == 'txt':\n",
        "        with open(f'./articles/{file}', 'r', encoding='utf-8') as f:\n",
        "            data.append(f.read())"
      ],
      "execution_count": 0,
      "outputs": []
    },
    {
      "cell_type": "code",
      "metadata": {
        "id": "TXGhcs_OCuz1",
        "colab_type": "code",
        "colab": {
          "base_uri": "https://localhost:8080/",
          "height": 32
        },
        "outputId": "920737cc-a1b1-4b26-ff43-b127af670549"
      },
      "source": [
        "len(data)"
      ],
      "execution_count": 4,
      "outputs": [
        {
          "output_type": "execute_result",
          "data": {
            "text/plain": [
              "136"
            ]
          },
          "metadata": {
            "tags": []
          },
          "execution_count": 4
        }
      ]
    },
    {
      "cell_type": "code",
      "metadata": {
        "id": "4WGs40AFCuz8",
        "colab_type": "code",
        "colab": {
          "base_uri": "https://localhost:8080/",
          "height": 52
        },
        "outputId": "04716130-f82a-44db-d11b-f96c2e73735e"
      },
      "source": [
        "data[-1]"
      ],
      "execution_count": 5,
      "outputs": [
        {
          "output_type": "execute_result",
          "data": {
            "text/plain": [
              "\"We encourage new and innovative uses of our content, and we want our readers to have access to our content in a wide variety of different ways. We therefore make our content available through RSS feeds for personal use (e.g., in a news reader), for many commercial purposes, or for any other form of distribution to a third party.\\n\\nHowever , all use of our RSS feeds is subject to our User Agreement and to the terms and conditions below. If you have questions or concerns about any of these terms – or if you wish to use an RSS feed in a manner inconsistent with any provision below (e.g., on a mobile device for commercial purposes or redistribution, or with your own advertising) – please do not hesitate to contact us at rss@washpost.com. We will be happy to discuss your ideas and to work with you to try to meet your requests.\\n\\na. For any article, you may not display more text than we provide in the RSS feed.\\n\\nb. All text from our RSS feed must displayed in the manner in which we provide the text. You may not edit, translate, or reformat the content that we provide. You must retain all links to the original Washington Post article on washingtonpost.com, as well as any other hyperlinks or notices in the feed.\\n\\nc. You must ensure that all excerpts link directly to washingtonpost.com, and you may not insert interstitial, splash, intermediate pages or any other content or advertising in connection with our RSS feed, or between any display of our RSS feed and our website.\\n\\nd. Any photographs or other images that you display must be low-resolution and in a size no greater than 60x60.\\n\\ne. You must retain in original form the attribution and by-line provided in the RSS feed, and must prominently credit The Washington Post in connection with each RSS excerpt that you publish.\\n\\nf. Except for your own individual, personal use, you may not display our RSS feed on a mobile device, defined as any portable device using wireless technology to receive content, data, and/or other information (including within a mobile application or on a mobile website).\\n\\ng. You may not aggregate or otherwise use articles and/or excerpts from our RSS feed in a manner that could reasonably serve as a substitute for our original content or could otherwise diminish the value of the content of The Washington Post. For instance, you may not publish a webpage that simply aggregate the RSS feeds of all Washington Post politics articles and sell advertising against that page.\\n\\nh. You may not strip advertising from our RSS feeds, nor serve your own advertising within or against our RSS feeds.\\n\\ni. You may not sell, lease, sublicense, redistribute or otherwise monetize our RSS feeds.\\n\\nj. You may not display the name, logo, trademark or other identifier of another person or entity in connection with our RSS feeds in a manner that could reasonably indicate that such other person or entity is affiliated with our RSS feeds.\\n\\nk. You may not display the RSS feeds on any website or in any other way that could reasonably damage the brand or reputation of The Washington Post. For instance, you may not publish our RSS feed on or in connection with any website that infringes upon or violates the copyrights, trademarks or other intellectual property rights of any person; is libelous or defamatory; is obscene, pornographic, or sexually explicit; violates a person's right to privacy; violates any local, state, national, or international law; contains or advocates illegal or violent acts; degrades others on the basis of gender, race, class, ethnicity, national origin, religion, sexual orientation, disability, or other classification; or is predatory, hateful, or intended to intimidate or harass.\\n\\nl. You must provide us with complete and accurate registration information in order to use our RSS feeds.\\n\\nm. You will promptly remove our RSS feeds upon our request, and will not store or archive any of our feeds.\\n\\nWe are not liable for your use of our RSS feeds or any related activity.\\n\\n\\n\\nWe may limit, suspend, or terminate your access to and use of our RSS feeds at any time at our sole discretion.\\n\\nWe retain all ownership and other rights in the RSS content, and in any and all Washington Post logos and trademarks used in connection with the RSS feeds.\\n\\nBY DOWNLOADING AN RSS FEED, YOU HEREBY ACKNOWLEDGE THAT YOU UNDERSTAND AND AGREE TO BE BOUND BY THESE TERMS. WE RESERVE THE RIGHT TO CHANGE ANY OF THESE TERMS AT OUR SOLE DISCRETION. YOUR CONTINUED USE OF OUR SERVICE CONSTITUTES ACCEPTANCE OF ANY SUCH CHANGES.\\n\\nIf you have questions about use of our RSS feeds, or to request our permission to deviate from the requirements set forth above, including using our feeds in mobile products or on any mobile platform, please contact us at rss@washpost.com.\""
            ]
          },
          "metadata": {
            "tags": []
          },
          "execution_count": 5
        }
      ]
    },
    {
      "cell_type": "code",
      "metadata": {
        "id": "65tVKzZZCu0C",
        "colab_type": "code",
        "colab": {}
      },
      "source": [
        "# Encode Data as Chars\n",
        "\n",
        "# Gather all text \n",
        "# Why? 1. See all possible characters 2. For training / splitting later\n",
        "text = \" \".join(data)\n",
        "\n",
        "# Unique Characters\n",
        "chars = list(set(text))\n",
        "\n",
        "# Lookup Tables\n",
        "char_int = {c:i for i, c in enumerate(chars)} \n",
        "int_char = {i:c for i, c in enumerate(chars)} "
      ],
      "execution_count": 0,
      "outputs": []
    },
    {
      "cell_type": "code",
      "metadata": {
        "id": "_JmufXjWCu0J",
        "colab_type": "code",
        "colab": {
          "base_uri": "https://localhost:8080/",
          "height": 32
        },
        "outputId": "6d99d260-0a92-4c0b-ac87-091dea944373"
      },
      "source": [
        "len(chars)"
      ],
      "execution_count": 7,
      "outputs": [
        {
          "output_type": "execute_result",
          "data": {
            "text/plain": [
              "121"
            ]
          },
          "metadata": {
            "tags": []
          },
          "execution_count": 7
        }
      ]
    },
    {
      "cell_type": "code",
      "metadata": {
        "id": "3yjhS2Tj_9hd",
        "colab_type": "code",
        "colab": {
          "base_uri": "https://localhost:8080/",
          "height": 1000
        },
        "outputId": "9bb2bcee-3c6d-441e-c885-9674125f6ace"
      },
      "source": [
        "chars"
      ],
      "execution_count": 8,
      "outputs": [
        {
          "output_type": "execute_result",
          "data": {
            "text/plain": [
              "['ê',\n",
              " 'ã',\n",
              " 'ﬂ',\n",
              " 'O',\n",
              " '4',\n",
              " '*',\n",
              " 'a',\n",
              " 'w',\n",
              " 'n',\n",
              " '🤔',\n",
              " '1',\n",
              " '+',\n",
              " '🗣',\n",
              " 'c',\n",
              " 't',\n",
              " 'l',\n",
              " 'h',\n",
              " '\\n',\n",
              " '0',\n",
              " '“',\n",
              " 'ó',\n",
              " 'C',\n",
              " '―',\n",
              " 'H',\n",
              " '\\u2069',\n",
              " ' ',\n",
              " 'ñ',\n",
              " 'á',\n",
              " '3',\n",
              " 'G',\n",
              " '{',\n",
              " 'E',\n",
              " '©',\n",
              " 'V',\n",
              " 's',\n",
              " 'b',\n",
              " '2',\n",
              " 'g',\n",
              " 'y',\n",
              " 'A',\n",
              " 'K',\n",
              " ',',\n",
              " '’',\n",
              " 'm',\n",
              " 'Z',\n",
              " '-',\n",
              " '|',\n",
              " 'W',\n",
              " 'F',\n",
              " '5',\n",
              " 'i',\n",
              " '●',\n",
              " 'p',\n",
              " '⅔',\n",
              " ';',\n",
              " 'í',\n",
              " 'ö',\n",
              " 'é',\n",
              " ')',\n",
              " '—',\n",
              " '@',\n",
              " ':',\n",
              " '&',\n",
              " '⅓',\n",
              " '/',\n",
              " '⭐',\n",
              " '[',\n",
              " '½',\n",
              " '!',\n",
              " 'k',\n",
              " 'L',\n",
              " '$',\n",
              " '_',\n",
              " 'd',\n",
              " 'q',\n",
              " 'Q',\n",
              " '?',\n",
              " '%',\n",
              " '#',\n",
              " '9',\n",
              " 'x',\n",
              " '\\u2066',\n",
              " '…',\n",
              " 'I',\n",
              " '\"',\n",
              " 'è',\n",
              " '”',\n",
              " '(',\n",
              " 'B',\n",
              " '·',\n",
              " 'R',\n",
              " 'v',\n",
              " \"'\",\n",
              " 'J',\n",
              " 'Y',\n",
              " 'S',\n",
              " 'z',\n",
              " '•',\n",
              " 'r',\n",
              " 'e',\n",
              " 'f',\n",
              " '\\xad',\n",
              " 'X',\n",
              " '6',\n",
              " '‘',\n",
              " 'P',\n",
              " 'M',\n",
              " 'D',\n",
              " '.',\n",
              " 'j',\n",
              " 'U',\n",
              " '–',\n",
              " '×',\n",
              " ']',\n",
              " '👻',\n",
              " 'u',\n",
              " '8',\n",
              " 'T',\n",
              " 'N',\n",
              " 'o',\n",
              " '7']"
            ]
          },
          "metadata": {
            "tags": []
          },
          "execution_count": 8
        }
      ]
    },
    {
      "cell_type": "code",
      "metadata": {
        "id": "zwLhKv7CCu0P",
        "colab_type": "code",
        "colab": {
          "base_uri": "https://localhost:8080/",
          "height": 32
        },
        "outputId": "7df12b3c-741d-452f-cc4b-cad6ee388555"
      },
      "source": [
        "# Create the sequence data\n",
        "maxlen = 40\n",
        "step = 5\n",
        "\n",
        "encoded = [char_int[c] for c in text]\n",
        "\n",
        "sequences = [] # Each element is 40 chars long\n",
        "next_char = [] # One element for each sequence\n",
        "\n",
        "for i in range(0, len(encoded) - maxlen, step):\n",
        "    \n",
        "    sequences.append(encoded[i : i + maxlen])\n",
        "    next_char.append(encoded[i + maxlen])\n",
        "    \n",
        "print('sequences: ', len(sequences))"
      ],
      "execution_count": 9,
      "outputs": [
        {
          "output_type": "stream",
          "text": [
            "sequences:  178374\n"
          ],
          "name": "stdout"
        }
      ]
    },
    {
      "cell_type": "code",
      "metadata": {
        "id": "Nuj4Dfa3Cu0V",
        "colab_type": "code",
        "colab": {
          "base_uri": "https://localhost:8080/",
          "height": 675
        },
        "outputId": "9965ffb7-28c4-437f-8c11-0a57f06a6043"
      },
      "source": [
        "sequences[0]"
      ],
      "execution_count": 10,
      "outputs": [
        {
          "output_type": "execute_result",
          "data": {
            "text/plain": [
              "[118,\n",
              " 6,\n",
              " 8,\n",
              " 13,\n",
              " 38,\n",
              " 25,\n",
              " 39,\n",
              " 43,\n",
              " 119,\n",
              " 8,\n",
              " 34,\n",
              " 41,\n",
              " 25,\n",
              " 6,\n",
              " 25,\n",
              " 15,\n",
              " 119,\n",
              " 8,\n",
              " 37,\n",
              " 14,\n",
              " 50,\n",
              " 43,\n",
              " 99,\n",
              " 25,\n",
              " 50,\n",
              " 8,\n",
              " 91,\n",
              " 99,\n",
              " 34,\n",
              " 14,\n",
              " 50,\n",
              " 37,\n",
              " 6,\n",
              " 14,\n",
              " 50,\n",
              " 91,\n",
              " 99,\n",
              " 25,\n",
              " 98,\n",
              " 99]"
            ]
          },
          "metadata": {
            "tags": []
          },
          "execution_count": 10
        }
      ]
    },
    {
      "cell_type": "code",
      "metadata": {
        "id": "IY-l982eCu0b",
        "colab_type": "code",
        "colab": {}
      },
      "source": [
        "# Create x & y\n",
        "x = np.zeros((len(sequences), maxlen, len(chars)), dtype=np.bool)\n",
        "y = np.zeros((len(sequences),len(chars)), dtype=np.bool)\n",
        "\n",
        "for i, sequence in enumerate(sequences):\n",
        "    for t, char in enumerate(sequence):\n",
        "        x[i,t,char] = 1\n",
        "        \n",
        "    y[i, next_char[i]] = 1"
      ],
      "execution_count": 0,
      "outputs": []
    },
    {
      "cell_type": "code",
      "metadata": {
        "id": "_mTNYIuZCu0f",
        "colab_type": "code",
        "colab": {
          "base_uri": "https://localhost:8080/",
          "height": 32
        },
        "outputId": "d24983df-2b7f-4786-d76f-d3cca9e62a62"
      },
      "source": [
        "x.shape"
      ],
      "execution_count": 12,
      "outputs": [
        {
          "output_type": "execute_result",
          "data": {
            "text/plain": [
              "(178374, 40, 121)"
            ]
          },
          "metadata": {
            "tags": []
          },
          "execution_count": 12
        }
      ]
    },
    {
      "cell_type": "code",
      "metadata": {
        "id": "exzGDqbPCu0k",
        "colab_type": "code",
        "colab": {
          "base_uri": "https://localhost:8080/",
          "height": 32
        },
        "outputId": "0b6ec2b7-4d9d-403c-bacc-83b8b195eff6"
      },
      "source": [
        "y.shape"
      ],
      "execution_count": 13,
      "outputs": [
        {
          "output_type": "execute_result",
          "data": {
            "text/plain": [
              "(178374, 121)"
            ]
          },
          "metadata": {
            "tags": []
          },
          "execution_count": 13
        }
      ]
    },
    {
      "cell_type": "code",
      "metadata": {
        "id": "SRXWvrvlCu0o",
        "colab_type": "code",
        "colab": {}
      },
      "source": [
        "# build the model: a single LSTM\n",
        "model = Sequential()\n",
        "model.add(LSTM(128, input_shape=(maxlen, len(chars))))\n",
        "model.add(Dense(len(chars), activation='softmax'))\n",
        "model.compile(loss='categorical_crossentropy', \n",
        "              optimizer='adam',\n",
        "              metrics=['accuracy'])"
      ],
      "execution_count": 0,
      "outputs": []
    },
    {
      "cell_type": "code",
      "metadata": {
        "id": "P4xgtL_VCu0u",
        "colab_type": "code",
        "colab": {}
      },
      "source": [
        "def sample(preds):\n",
        "    # helper function to sample an index from a probability array\n",
        "    preds = np.asarray(preds).astype('float64')\n",
        "    preds = np.log(preds) / 1\n",
        "    exp_preds = np.exp(preds)\n",
        "    preds = exp_preds / np.sum(exp_preds)\n",
        "    probas = np.random.multinomial(1, preds, 1)\n",
        "    return np.argmax(probas)"
      ],
      "execution_count": 0,
      "outputs": []
    },
    {
      "cell_type": "code",
      "metadata": {
        "id": "OlrJ6g_ZCu00",
        "colab_type": "code",
        "colab": {}
      },
      "source": [
        "def on_epoch_end(epoch, _):\n",
        "    # Function invoked at end of each epoch. Prints generated text.\n",
        "    \n",
        "    print()\n",
        "    print('----- Generating text after Epoch: %d' % epoch)\n",
        "    \n",
        "    start_index = random.randint(0, len(text) - maxlen - 1)\n",
        "    \n",
        "    generated = ''\n",
        "    \n",
        "    # sentence = text[start_index: start_index + maxlen]\n",
        "    sentence = \"The police officer was given a medal of \"\n",
        "    generated += sentence\n",
        "    \n",
        "    print('----- Generating with seed: \"' + sentence + '\"')\n",
        "    sys.stdout.write(generated)\n",
        "    \n",
        "    for i in range(50):\n",
        "        x_pred = np.zeros((1, maxlen, len(chars)))\n",
        "        for t, char in enumerate(sentence):\n",
        "            x_pred[0, t, char_int[char]] = 1\n",
        "            \n",
        "        preds = model.predict(x_pred, verbose=0)[0]\n",
        "        next_index = sample(preds)\n",
        "        next_char = int_char[next_index]\n",
        "        \n",
        "        sentence = sentence[1:] + next_char\n",
        "        \n",
        "        sys.stdout.write(next_char)\n",
        "        sys.stdout.flush()\n",
        "    print()\n",
        "\n",
        "\n",
        "print_callback = LambdaCallback(on_epoch_end=on_epoch_end)"
      ],
      "execution_count": 0,
      "outputs": []
    },
    {
      "cell_type": "code",
      "metadata": {
        "id": "Gwr8BLJwCu0_",
        "colab_type": "code",
        "colab": {
          "base_uri": "https://localhost:8080/",
          "height": 1000
        },
        "outputId": "3e58ad00-aa50-45c7-cb90-6c67b866b8c2"
      },
      "source": [
        "# fit the model\n",
        "model.fit(x, y,\n",
        "          batch_size=32,\n",
        "          epochs=50,\n",
        "          callbacks=[print_callback])"
      ],
      "execution_count": 17,
      "outputs": [
        {
          "output_type": "stream",
          "text": [
            "Epoch 1/50\n",
            "5569/5575 [============================>.] - ETA: 0s - loss: 2.5915 - accuracy: 0.2873\n",
            "----- Generating text after Epoch: 0\n",
            "----- Generating with seed: \"The police officer was given a medal of \"\n",
            "The police officer was given a medal of , Nonend palily of onttee douk cored hot tod it pa\n",
            "5575/5575 [==============================] - 28s 5ms/step - loss: 2.5912 - accuracy: 0.2874\n",
            "Epoch 2/50\n",
            "5565/5575 [============================>.] - ETA: 0s - loss: 2.2482 - accuracy: 0.3597\n",
            "----- Generating text after Epoch: 1\n",
            "----- Generating with seed: \"The police officer was given a medal of \"\n",
            "The police officer was given a medal of the fo-fell Andnre that dexnoie atrympurmat of rem\n",
            "5575/5575 [==============================] - 28s 5ms/step - loss: 2.2479 - accuracy: 0.3597\n",
            "Epoch 3/50\n",
            "5572/5575 [============================>.] - ETA: 0s - loss: 2.1215 - accuracy: 0.3904\n",
            "----- Generating text after Epoch: 2\n",
            "----- Generating with seed: \"The police officer was given a medal of \"\n",
            "The police officer was given a medal of inet in , j. kelice as the cisplution to Trumg how\n",
            "5575/5575 [==============================] - 28s 5ms/step - loss: 2.1213 - accuracy: 0.3904\n",
            "Epoch 4/50\n",
            "5573/5575 [============================>.] - ETA: 0s - loss: 2.0258 - accuracy: 0.4152\n",
            "----- Generating text after Epoch: 3\n",
            "----- Generating with seed: \"The police officer was given a medal of \"\n",
            "The police officer was given a medal of the 28. Thised lussing on 30smor Glince.\n",
            "\n",
            "Acy. In \n",
            "5575/5575 [==============================] - 28s 5ms/step - loss: 2.0259 - accuracy: 0.4152\n",
            "Epoch 5/50\n",
            "5570/5575 [============================>.] - ETA: 0s - loss: 1.9537 - accuracy: 0.4330\n",
            "----- Generating text after Epoch: 4\n",
            "----- Generating with seed: \"The police officer was given a medal of \"\n",
            "The police officer was given a medal of in toum, I Doounders Actes, from Fors or woln rene\n",
            "5575/5575 [==============================] - 28s 5ms/step - loss: 1.9537 - accuracy: 0.4330\n",
            "Epoch 6/50\n",
            "5575/5575 [==============================] - ETA: 0s - loss: 1.8924 - accuracy: 0.4500\n",
            "----- Generating text after Epoch: 5\n",
            "----- Generating with seed: \"The police officer was given a medal of \"\n",
            "The police officer was given a medal of reart elle that sayonnes have citnce has and offer\n",
            "5575/5575 [==============================] - 28s 5ms/step - loss: 1.8924 - accuracy: 0.4500\n",
            "Epoch 7/50\n",
            "5572/5575 [============================>.] - ETA: 0s - loss: 1.8427 - accuracy: 0.4634\n",
            "----- Generating text after Epoch: 6\n",
            "----- Generating with seed: \"The police officer was given a medal of \"\n",
            "The police officer was given a medal of firs consishight propuing out stagely.\n",
            "\n",
            "““They’s e\n",
            "5575/5575 [==============================] - 28s 5ms/step - loss: 1.8428 - accuracy: 0.4634\n",
            "Epoch 8/50\n",
            "5565/5575 [============================>.] - ETA: 0s - loss: 1.7997 - accuracy: 0.4753\n",
            "----- Generating text after Epoch: 7\n",
            "----- Generating with seed: \"The police officer was given a medal of \"\n",
            "The police officer was given a medal of are on the Decosson is a sotrians indagaias playec\n",
            "5575/5575 [==============================] - 28s 5ms/step - loss: 1.8000 - accuracy: 0.4753\n",
            "Epoch 9/50\n",
            "5572/5575 [============================>.] - ETA: 0s - loss: 1.7622 - accuracy: 0.4855\n",
            "----- Generating text after Epoch: 8\n",
            "----- Generating with seed: \"The police officer was given a medal of \"\n",
            "The police officer was given a medal of the filler and who are more greased that we that e\n",
            "5575/5575 [==============================] - 28s 5ms/step - loss: 1.7623 - accuracy: 0.4854\n",
            "Epoch 10/50\n",
            "5574/5575 [============================>.] - ETA: 0s - loss: 1.7283 - accuracy: 0.4946\n",
            "----- Generating text after Epoch: 9\n",
            "----- Generating with seed: \"The police officer was given a medal of \"\n",
            "The police officer was given a medal of a plony of tears, sceporsed to do more have amonti\n",
            "5575/5575 [==============================] - 29s 5ms/step - loss: 1.7282 - accuracy: 0.4946\n",
            "Epoch 11/50\n",
            "5574/5575 [============================>.] - ETA: 0s - loss: 1.6977 - accuracy: 0.5034\n",
            "----- Generating text after Epoch: 10\n",
            "----- Generating with seed: \"The police officer was given a medal of \"\n",
            "The police officer was given a medal of the lamation face ullcer leainet (166my, Trump hav\n",
            "5575/5575 [==============================] - 28s 5ms/step - loss: 1.6978 - accuracy: 0.5034\n",
            "Epoch 12/50\n",
            "5574/5575 [============================>.] - ETA: 0s - loss: 1.6709 - accuracy: 0.5107\n",
            "----- Generating text after Epoch: 11\n",
            "----- Generating with seed: \"The police officer was given a medal of \"\n",
            "The police officer was given a medal of they fast through of the call after situratlushate\n",
            "5575/5575 [==============================] - 28s 5ms/step - loss: 1.6708 - accuracy: 0.5107\n",
            "Epoch 13/50\n",
            "5575/5575 [==============================] - ETA: 0s - loss: 1.6447 - accuracy: 0.5185\n",
            "----- Generating text after Epoch: 12\n",
            "----- Generating with seed: \"The police officer was given a medal of \"\n",
            "The police officer was given a medal of dety emplyainty as outnywy. Doman “gree-lort draw-\n",
            "5575/5575 [==============================] - 28s 5ms/step - loss: 1.6447 - accuracy: 0.5185\n",
            "Epoch 14/50\n",
            "5566/5575 [============================>.] - ETA: 0s - loss: 1.6221 - accuracy: 0.5250\n",
            "----- Generating text after Epoch: 13\n",
            "----- Generating with seed: \"The police officer was given a medal of \"\n",
            "The police officer was given a medal of Ameny Kinglan reformments to laved them attakes no\n",
            "5575/5575 [==============================] - 28s 5ms/step - loss: 1.6224 - accuracy: 0.5249\n",
            "Epoch 15/50\n",
            "5566/5575 [============================>.] - ETA: 0s - loss: 1.6017 - accuracy: 0.5309\n",
            "----- Generating text after Epoch: 14\n",
            "----- Generating with seed: \"The police officer was given a medal of \"\n",
            "The police officer was given a medal of not.\n",
            "\n",
            "“efficure commaned the U.ta-hough the courg \n",
            "5575/5575 [==============================] - 28s 5ms/step - loss: 1.6015 - accuracy: 0.5310\n",
            "Epoch 16/50\n",
            "5567/5575 [============================>.] - ETA: 0s - loss: 1.5820 - accuracy: 0.5369\n",
            "----- Generating text after Epoch: 15\n",
            "----- Generating with seed: \"The police officer was given a medal of \"\n",
            "The police officer was given a medal of a newspen. LOn Bo-Webs.\n",
            "\n",
            "We respecting the U.S. po\n",
            "5575/5575 [==============================] - 28s 5ms/step - loss: 1.5822 - accuracy: 0.5368\n",
            "Epoch 17/50\n",
            "5573/5575 [============================>.] - ETA: 0s - loss: 1.5634 - accuracy: 0.5417\n",
            "----- Generating text after Epoch: 16\n",
            "----- Generating with seed: \"The police officer was given a medal of \"\n",
            "The police officer was given a medal of text of Nerd quered a wase be fleads of Herss take\n",
            "5575/5575 [==============================] - 28s 5ms/step - loss: 1.5636 - accuracy: 0.5417\n",
            "Epoch 18/50\n",
            "5573/5575 [============================>.] - ETA: 0s - loss: 1.5475 - accuracy: 0.5451\n",
            "----- Generating text after Epoch: 17\n",
            "----- Generating with seed: \"The police officer was given a medal of \"\n",
            "The police officer was given a medal of an ordiceding compulaction and the endorianol to j\n",
            "5575/5575 [==============================] - 28s 5ms/step - loss: 1.5474 - accuracy: 0.5451\n",
            "Epoch 19/50\n",
            "5564/5575 [============================>.] - ETA: 0s - loss: 1.5313 - accuracy: 0.5503\n",
            "----- Generating text after Epoch: 18\n",
            "----- Generating with seed: \"The police officer was given a medal of \"\n",
            "The police officer was given a medal of tellover thuse is beginded by new . “Consturc. “Ma\n",
            "5575/5575 [==============================] - 27s 5ms/step - loss: 1.5311 - accuracy: 0.5503\n",
            "Epoch 20/50\n",
            "5564/5575 [============================>.] - ETA: 0s - loss: 1.5158 - accuracy: 0.5550\n",
            "----- Generating text after Epoch: 19\n",
            "----- Generating with seed: \"The police officer was given a medal of \"\n",
            "The police officer was given a medal of Natos, — the growm god a guart who is mofled with \n",
            "5575/5575 [==============================] - 28s 5ms/step - loss: 1.5158 - accuracy: 0.5550\n",
            "Epoch 21/50\n",
            "5571/5575 [============================>.] - ETA: 0s - loss: 1.5019 - accuracy: 0.5582\n",
            "----- Generating text after Epoch: 20\n",
            "----- Generating with seed: \"The police officer was given a medal of \"\n",
            "The police officer was given a medal of connective uppand to dopsifted: runful with Fradi \n",
            "5575/5575 [==============================] - 28s 5ms/step - loss: 1.5017 - accuracy: 0.5582\n",
            "Epoch 22/50\n",
            "5573/5575 [============================>.] - ETA: 0s - loss: 1.4880 - accuracy: 0.5615\n",
            "----- Generating text after Epoch: 21\n",
            "----- Generating with seed: \"The police officer was given a medal of \"\n",
            "The police officer was given a medal of 594, one, allow a decement podnmand, who seging a \n",
            "5575/5575 [==============================] - 28s 5ms/step - loss: 1.4878 - accuracy: 0.5615\n",
            "Epoch 23/50\n",
            "5571/5575 [============================>.] - ETA: 0s - loss: 1.4753 - accuracy: 0.5657\n",
            "----- Generating text after Epoch: 22\n",
            "----- Generating with seed: \"The police officer was given a medal of \"\n",
            "The police officer was given a medal of before” to between Lennam Pational Angelds Johnswo\n",
            "5575/5575 [==============================] - 28s 5ms/step - loss: 1.4754 - accuracy: 0.5657\n",
            "Epoch 24/50\n",
            "5574/5575 [============================>.] - ETA: 0s - loss: 1.4635 - accuracy: 0.5684\n",
            "----- Generating text after Epoch: 23\n",
            "----- Generating with seed: \"The police officer was given a medal of \"\n",
            "The police officer was given a medal of NFL Juspern Resowns Heod. The bist and he said, or\n",
            "5575/5575 [==============================] - 28s 5ms/step - loss: 1.4635 - accuracy: 0.5684\n",
            "Epoch 25/50\n",
            "5566/5575 [============================>.] - ETA: 0s - loss: 1.4519 - accuracy: 0.5719\n",
            "----- Generating text after Epoch: 24\n",
            "----- Generating with seed: \"The police officer was given a medal of \"\n",
            "The police officer was given a medal of the Democratic and have cosling also fight that he\n",
            "5575/5575 [==============================] - 28s 5ms/step - loss: 1.4520 - accuracy: 0.5719\n",
            "Epoch 26/50\n",
            "5570/5575 [============================>.] - ETA: 0s - loss: 1.4410 - accuracy: 0.5747\n",
            "----- Generating text after Epoch: 25\n",
            "----- Generating with seed: \"The police officer was given a medal of \"\n",
            "The police officer was given a medal of with a fleessed. That mind or as the carravitular-\n",
            "5575/5575 [==============================] - 28s 5ms/step - loss: 1.4408 - accuracy: 0.5747\n",
            "Epoch 27/50\n",
            "5571/5575 [============================>.] - ETA: 0s - loss: 1.4303 - accuracy: 0.5779\n",
            "----- Generating text after Epoch: 26\n",
            "----- Generating with seed: \"The police officer was given a medal of \"\n",
            "The police officer was given a medal of the bonds macalled will deside of these Russius de\n",
            "5575/5575 [==============================] - 28s 5ms/step - loss: 1.4302 - accuracy: 0.5779\n",
            "Epoch 28/50\n",
            "5569/5575 [============================>.] - ETA: 0s - loss: 1.4207 - accuracy: 0.5799\n",
            "----- Generating text after Epoch: 27\n",
            "----- Generating with seed: \"The police officer was given a medal of \"\n",
            "The police officer was given a medal of the publied dreperst scrumons. Hesporning the pose\n",
            "5575/5575 [==============================] - 28s 5ms/step - loss: 1.4207 - accuracy: 0.5799\n",
            "Epoch 29/50\n",
            "5569/5575 [============================>.] - ETA: 0s - loss: 1.4120 - accuracy: 0.5821\n",
            "----- Generating text after Epoch: 28\n",
            "----- Generating with seed: \"The police officer was given a medal of \"\n",
            "The police officer was given a medal of the meat of tax.\n",
            "\n",
            "“We need and it supporters when \n",
            "5575/5575 [==============================] - 28s 5ms/step - loss: 1.4119 - accuracy: 0.5822\n",
            "Epoch 30/50\n",
            "5574/5575 [============================>.] - ETA: 0s - loss: 1.4029 - accuracy: 0.5848\n",
            "----- Generating text after Epoch: 29\n",
            "----- Generating with seed: \"The police officer was given a medal of \"\n",
            "The police officer was given a medal of 30,, wey of heasary to the United States for other\n",
            "5575/5575 [==============================] - 28s 5ms/step - loss: 1.4030 - accuracy: 0.5848\n",
            "Epoch 31/50\n",
            "5574/5575 [============================>.] - ETA: 0s - loss: 1.3950 - accuracy: 0.5872\n",
            "----- Generating text after Epoch: 30\n",
            "----- Generating with seed: \"The police officer was given a medal of \"\n",
            "The police officer was given a medal of a part with them. Wefter"
          ],
          "name": "stdout"
        },
        {
          "output_type": "stream",
          "text": [
            "/usr/local/lib/python3.6/dist-packages/ipykernel_launcher.py:4: RuntimeWarning: divide by zero encountered in log\n",
            "  after removing the cwd from sys.path.\n"
          ],
          "name": "stderr"
        },
        {
          "output_type": "stream",
          "text": [
            "men, a promosidend this pr\n",
            "5575/5575 [==============================] - 28s 5ms/step - loss: 1.3949 - accuracy: 0.5873\n",
            "Epoch 32/50\n",
            "5565/5575 [============================>.] - ETA: 0s - loss: 1.3868 - accuracy: 0.5892\n",
            "----- Generating text after Epoch: 31\n",
            "----- Generating with seed: \"The police officer was given a medal of \"\n",
            "The police officer was given a medal of put when Is he see of the Turks as by the ralling \n",
            "5575/5575 [==============================] - 28s 5ms/step - loss: 1.3868 - accuracy: 0.5892\n",
            "Epoch 33/50\n",
            "5574/5575 [============================>.] - ETA: 0s - loss: 1.3795 - accuracy: 0.5920\n",
            "----- Generating text after Epoch: 32\n",
            "----- Generating with seed: \"The police officer was given a medal of \"\n",
            "The police officer was given a medal of a gone of the teclive exploce of possibles. This i\n",
            "5575/5575 [==============================] - 27s 5ms/step - loss: 1.3794 - accuracy: 0.5920\n",
            "Epoch 34/50\n",
            "5568/5575 [============================>.] - ETA: 0s - loss: 1.3730 - accuracy: 0.5930\n",
            "----- Generating text after Epoch: 33\n",
            "----- Generating with seed: \"The police officer was given a medal of \"\n",
            "The police officer was given a medal of the own promembates down’t country-might to ceroun\n",
            "5575/5575 [==============================] - 27s 5ms/step - loss: 1.3731 - accuracy: 0.5930\n",
            "Epoch 35/50\n",
            "5567/5575 [============================>.] - ETA: 0s - loss: 1.3666 - accuracy: 0.5942\n",
            "----- Generating text after Epoch: 34\n",
            "----- Generating with seed: \"The police officer was given a medal of \"\n",
            "The police officer was given a medal of the twy ralling down, but he has charn a have alco\n",
            "5575/5575 [==============================] - 28s 5ms/step - loss: 1.3667 - accuracy: 0.5942\n",
            "Epoch 36/50\n",
            "5566/5575 [============================>.] - ETA: 0s - loss: 1.3601 - accuracy: 0.5960\n",
            "----- Generating text after Epoch: 35\n",
            "----- Generating with seed: \"The police officer was given a medal of \"\n",
            "The police officer was given a medal of Shewcous antainga wighlated race dootle and with t\n",
            "5575/5575 [==============================] - 28s 5ms/step - loss: 1.3603 - accuracy: 0.5959\n",
            "Epoch 37/50\n",
            "5573/5575 [============================>.] - ETA: 0s - loss: 1.3550 - accuracy: 0.5973\n",
            "----- Generating text after Epoch: 36\n",
            "----- Generating with seed: \"The police officer was given a medal of \"\n",
            "The police officer was given a medal of they took are unteres had no tryed pard of much ra\n",
            "5575/5575 [==============================] - 28s 5ms/step - loss: 1.3548 - accuracy: 0.5973\n",
            "Epoch 38/50\n",
            "5570/5575 [============================>.] - ETA: 0s - loss: 1.3490 - accuracy: 0.5992\n",
            "----- Generating text after Epoch: 37\n",
            "----- Generating with seed: \"The police officer was given a medal of \"\n",
            "The police officer was given a medal of Monday more policiem, recognization at one third, \n",
            "5575/5575 [==============================] - 28s 5ms/step - loss: 1.3491 - accuracy: 0.5991\n",
            "Epoch 39/50\n",
            "5570/5575 [============================>.] - ETA: 0s - loss: 1.3420 - accuracy: 0.5997\n",
            "----- Generating text after Epoch: 38\n",
            "----- Generating with seed: \"The police officer was given a medal of \"\n",
            "The police officer was given a medal of the teck and witlents to U.S. propeted and how to \n",
            "5575/5575 [==============================] - 28s 5ms/step - loss: 1.3420 - accuracy: 0.5998\n",
            "Epoch 40/50\n",
            "5566/5575 [============================>.] - ETA: 0s - loss: 1.3378 - accuracy: 0.6032\n",
            "----- Generating text after Epoch: 39\n",
            "----- Generating with seed: \"The police officer was given a medal of \"\n",
            "The police officer was given a medal of the child be which really said the Kurds have loca\n",
            "5575/5575 [==============================] - 28s 5ms/step - loss: 1.3377 - accuracy: 0.6032\n",
            "Epoch 41/50\n",
            "5573/5575 [============================>.] - ETA: 0s - loss: 1.3338 - accuracy: 0.6035\n",
            "----- Generating text after Epoch: 40\n",
            "----- Generating with seed: \"The police officer was given a medal of \"\n",
            "The police officer was given a medal of a game in on the one like of the Supress inquired \n",
            "5575/5575 [==============================] - 28s 5ms/step - loss: 1.3339 - accuracy: 0.6034\n",
            "Epoch 42/50\n",
            "5565/5575 [============================>.] - ETA: 0s - loss: 1.3284 - accuracy: 0.6052\n",
            "----- Generating text after Epoch: 41\n",
            "----- Generating with seed: \"The police officer was given a medal of \"\n",
            "The police officer was given a medal of which, and zone of the United Post. Woschine to ne\n",
            "5575/5575 [==============================] - 28s 5ms/step - loss: 1.3288 - accuracy: 0.6051\n",
            "Epoch 43/50\n",
            "5572/5575 [============================>.] - ETA: 0s - loss: 1.3258 - accuracy: 0.6045\n",
            "----- Generating text after Epoch: 42\n",
            "----- Generating with seed: \"The police officer was given a medal of \"\n",
            "The police officer was given a medal of the Trump has frequite to ridun scare these is our\n",
            "5575/5575 [==============================] - 28s 5ms/step - loss: 1.3260 - accuracy: 0.6045\n",
            "Epoch 44/50\n",
            "5567/5575 [============================>.] - ETA: 0s - loss: 1.3217 - accuracy: 0.6063\n",
            "----- Generating text after Epoch: 43\n",
            "----- Generating with seed: \"The police officer was given a medal of \"\n",
            "The police officer was given a medal of they realthe and the stondlon’s misposser,” as his\n",
            "5575/5575 [==============================] - 28s 5ms/step - loss: 1.3217 - accuracy: 0.6063\n",
            "Epoch 45/50\n",
            "5571/5575 [============================>.] - ETA: 0s - loss: 1.3164 - accuracy: 0.6073\n",
            "----- Generating text after Epoch: 44\n",
            "----- Generating with seed: \"The police officer was given a medal of \"\n",
            "The police officer was given a medal of the general that whether Thison, been the mas out \n",
            "5575/5575 [==============================] - 28s 5ms/step - loss: 1.3164 - accuracy: 0.6072\n",
            "Epoch 46/50\n",
            "5574/5575 [============================>.] - ETA: 0s - loss: 1.3124 - accuracy: 0.6095\n",
            "----- Generating text after Epoch: 45\n",
            "----- Generating with seed: \"The police officer was given a medal of \"\n",
            "The police officer was given a medal of the Services espacively sputh a way its of experie\n",
            "5575/5575 [==============================] - 28s 5ms/step - loss: 1.3125 - accuracy: 0.6095\n",
            "Epoch 47/50\n",
            "5564/5575 [============================>.] - ETA: 0s - loss: 1.3095 - accuracy: 0.6092\n",
            "----- Generating text after Epoch: 46\n",
            "----- Generating with seed: \"The police officer was given a medal of \"\n",
            "The police officer was given a medal of Septany Holudge of force instance drew Turkera (@j\n",
            "5575/5575 [==============================] - 28s 5ms/step - loss: 1.3095 - accuracy: 0.6093\n",
            "Epoch 48/50\n",
            "5575/5575 [==============================] - ETA: 0s - loss: 1.3055 - accuracy: 0.6102\n",
            "----- Generating text after Epoch: 47\n",
            "----- Generating with seed: \"The police officer was given a medal of \"\n",
            "The police officer was given a medal of the mudder part?\n",
            "\n",
            "Pation’s furse offending pain re\n",
            "5575/5575 [==============================] - 28s 5ms/step - loss: 1.3055 - accuracy: 0.6102\n",
            "Epoch 49/50\n",
            "5575/5575 [==============================] - ETA: 0s - loss: 1.3028 - accuracy: 0.6106\n",
            "----- Generating text after Epoch: 48\n",
            "----- Generating with seed: \"The police officer was given a medal of \"\n",
            "The police officer was given a medal of the lotted and and trateing up after the show stou\n",
            "5575/5575 [==============================] - 28s 5ms/step - loss: 1.3028 - accuracy: 0.6106\n",
            "Epoch 50/50\n",
            "5564/5575 [============================>.] - ETA: 0s - loss: 1.2995 - accuracy: 0.6118\n",
            "----- Generating text after Epoch: 49\n",
            "----- Generating with seed: \"The police officer was given a medal of \"\n",
            "The police officer was given a medal of a sumpulitreast” back here read in the justice suc\n",
            "5575/5575 [==============================] - 28s 5ms/step - loss: 1.2995 - accuracy: 0.6118\n"
          ],
          "name": "stdout"
        },
        {
          "output_type": "execute_result",
          "data": {
            "text/plain": [
              "<tensorflow.python.keras.callbacks.History at 0x7fd52003e3c8>"
            ]
          },
          "metadata": {
            "tags": []
          },
          "execution_count": 17
        }
      ]
    },
    {
      "cell_type": "markdown",
      "metadata": {
        "id": "cJ38VmE7Cu1H",
        "colab_type": "text"
      },
      "source": [
        "## Challenge\n",
        "\n",
        "You will be expected to use a Keras LSTM to generate text on today's assignment. "
      ]
    },
    {
      "cell_type": "markdown",
      "metadata": {
        "id": "TxZwNBmOCu1H",
        "colab_type": "text"
      },
      "source": [
        "# Review\n",
        "\n",
        "- <a href=\"#p1\">Part 1: </a>Describe Neural Networks used for modeling sequences\n",
        "    * Sequence Problems:\n",
        "        - Time Series (like Stock Prices, Weather, etc.)\n",
        "        - Text Classification\n",
        "        - Text Generation\n",
        "        - And many more! :D\n",
        "    * LSTMs are generally preferred over RNNs for most problems\n",
        "    * LSTMs are typically a single hidden layer of LSTM type; although, other architectures are possible.\n",
        "    * Keras has LSTMs/RNN layer types implemented nicely\n",
        "- <a href=\"#p2\">Part 2: </a>Apply a LSTM to a text generation problem using Keras\n",
        "    * Shape of input data is very important\n",
        "    * Can take a while to train\n",
        "    * You can use it to write movie scripts. :P "
      ]
    }
  ]
}