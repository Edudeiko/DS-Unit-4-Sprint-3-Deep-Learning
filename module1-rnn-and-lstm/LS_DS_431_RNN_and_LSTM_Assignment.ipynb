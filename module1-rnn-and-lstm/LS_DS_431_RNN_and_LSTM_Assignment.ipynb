{
 "cells": [
  {
   "cell_type": "markdown",
   "metadata": {},
   "source": [
    "<img align=\"left\" src=\"https://lever-client-logos.s3.amazonaws.com/864372b1-534c-480e-acd5-9711f850815c-1524247202159.png\" width=200>\n",
    "<br></br>\n",
    "<br></br>\n",
    "\n",
    "## *Data Science Unit 4 Sprint 3 Assignment 1*\n",
    "\n",
    "# Recurrent Neural Networks and Long Short Term Memory (LSTM)\n",
    "\n",
    "![Monkey at a typewriter](https://upload.wikimedia.org/wikipedia/commons/thumb/3/3c/Chimpanzee_seated_at_typewriter.jpg/603px-Chimpanzee_seated_at_typewriter.jpg)\n",
    "\n",
    "It is said that [infinite monkeys typing for an infinite amount of time](https://en.wikipedia.org/wiki/Infinite_monkey_theorem) will eventually type, among other things, the complete works of Wiliam Shakespeare. Let's see if we can get there a bit faster, with the power of Recurrent Neural Networks and LSTM.\n",
    "\n",
    "This text file contains the complete works of Shakespeare: https://www.gutenberg.org/files/100/100-0.txt\n",
    "\n",
    "Use it as training data for an RNN - you can keep it simple and train character level, and that is suggested as an initial approach.\n",
    "\n",
    "Then, use that trained RNN to generate Shakespearean-ish text. Your goal - a function that can take, as an argument, the size of text (e.g. number of characters or lines) to generate, and returns generated text of that size.\n",
    "\n",
    "Note - Shakespeare wrote an awful lot. It's OK, especially initially, to sample/use smaller data and parameters, so you can have a tighter feedback loop when you're trying to get things running. Then, once you've got a proof of concept - start pushing it more!"
   ]
  },
  {
   "cell_type": "code",
   "execution_count": null,
   "metadata": {},
   "outputs": [],
   "source": [
    "pip install keras"
   ]
  },
  {
   "cell_type": "code",
   "execution_count": 1,
   "metadata": {},
   "outputs": [
    {
     "name": "stderr",
     "output_type": "stream",
     "text": [
      "Using TensorFlow backend.\n"
     ]
    }
   ],
   "source": [
    "from tensorflow.keras.callbacks import LambdaCallback\n",
    "from tensorflow.keras.models import Sequential\n",
    "from tensorflow.keras.layers import Dense, LSTM\n",
    "from tensorflow.keras.optimizers import RMSprop\n",
    "\n",
    "# from __future__ import print_function\n",
    "\n",
    "import numpy as np\n",
    "from tensorflow.keras.preprocessing import sequence\n",
    "from tensorflow.keras.layers import Dense, Embedding, Dropout, SimpleRNN, LSTM\n",
    "import matplotlib.pyplot as plt\n",
    "from keras.utils.data_utils import get_file\n",
    "import io\n",
    "import seaborn as sns\n",
    "sns.set()\n",
    "\n",
    "import numpy as np\n",
    "import pandas as pd\n",
    "import random\n",
    "import sys\n",
    "import os"
   ]
  },
  {
   "cell_type": "markdown",
   "metadata": {},
   "source": [
    "#### At least 20 epochs are required before the generated text starts sounding coherent.\n",
    "\n",
    "#### It is recommended to run this script on GPU, as recurrent networks are quite computationally intensive.\n",
    "\n",
    "#### If you try this script on new data, make sure your corpus has at least ~100k characters. ~1M is better."
   ]
  },
  {
   "cell_type": "code",
   "execution_count": 2,
   "metadata": {},
   "outputs": [
    {
     "name": "stdout",
     "output_type": "stream",
     "text": [
      "corpus length: 5573152\n"
     ]
    }
   ],
   "source": [
    "path = get_file(\n",
    "    '100-0.txt',\n",
    "    origin='https://www.gutenberg.org/files/100/100-0.txt')\n",
    "with io.open(path, encoding='utf-8') as f:\n",
    "    data = f.read().lower()\n",
    "print('corpus length:', len(data))"
   ]
  },
  {
   "cell_type": "code",
   "execution_count": 3,
   "metadata": {},
   "outputs": [],
   "source": [
    "text = data[500000:1000000]"
   ]
  },
  {
   "cell_type": "code",
   "execution_count": 4,
   "metadata": {},
   "outputs": [],
   "source": [
    "import re\n",
    "\n",
    "# text = re.sub(r'[^a-zA-Z ^0-9]', '', text)"
   ]
  },
  {
   "cell_type": "code",
   "execution_count": 5,
   "metadata": {},
   "outputs": [],
   "source": [
    "text = re.sub(\"\\\\n\", ' ', text)"
   ]
  },
  {
   "cell_type": "code",
   "execution_count": 6,
   "metadata": {},
   "outputs": [
    {
     "data": {
      "text/plain": [
       "500000"
      ]
     },
     "execution_count": 6,
     "metadata": {},
     "output_type": "execute_result"
    }
   ],
   "source": [
    "len(text)"
   ]
  },
  {
   "cell_type": "code",
   "execution_count": 7,
   "metadata": {},
   "outputs": [
    {
     "data": {
      "text/plain": [
       "\"  rosalind. why then, can one desire too much of a good thing? come,     sister, you shall be the priest, and marry us. give me your hand,     orlando. what do you say, sister?   orlando. pray thee, marry us.   celia. i cannot say the words.   rosalind. you must begin 'will you, orlando'-   celia. go to. will you, orlando, have to wife this rosalind?   orlando. i will.   rosalind. ay, but when?   orlando. why, now; as fast as she can marry us.   rosalind. then you must say 'i take thee, rosalind\""
      ]
     },
     "execution_count": 7,
     "metadata": {},
     "output_type": "execute_result"
    }
   ],
   "source": [
    "text[0:500]"
   ]
  },
  {
   "cell_type": "code",
   "execution_count": 8,
   "metadata": {},
   "outputs": [],
   "source": [
    "text = re.sub(r'[^a-zA-Z ^0-9]', '', text)"
   ]
  },
  {
   "cell_type": "code",
   "execution_count": 9,
   "metadata": {},
   "outputs": [
    {
     "data": {
      "text/plain": [
       "'  rosalind why then can one desire too much of a good thing come     sister you shall be the priest and marry us give me your hand     orlando what do you say sister   orlando pray thee marry us   celia i cannot say the words   rosalind you must begin will you orlando   celia go to will you orlando have to wife this rosalind   orlando i will   rosalind ay but when   orlando why now as fast as she can marry us   rosalind then you must say i take thee rosalind for wife   orlando i take thee rosali'"
      ]
     },
     "execution_count": 9,
     "metadata": {},
     "output_type": "execute_result"
    }
   ],
   "source": [
    "text[0:500]"
   ]
  },
  {
   "cell_type": "code",
   "execution_count": 10,
   "metadata": {},
   "outputs": [
    {
     "data": {
      "text/plain": [
       "475227"
      ]
     },
     "execution_count": 10,
     "metadata": {},
     "output_type": "execute_result"
    }
   ],
   "source": [
    "len(text)"
   ]
  },
  {
   "cell_type": "code",
   "execution_count": null,
   "metadata": {},
   "outputs": [],
   "source": [
    "# f = open('/file_name.txt') # Open file on read mode\n",
    "# lines = f.read().split(\"\\n\") # Create a list containing all lines\n",
    "# f.close()"
   ]
  },
  {
   "cell_type": "code",
   "execution_count": null,
   "metadata": {},
   "outputs": [],
   "source": [
    "# len(lines)"
   ]
  },
  {
   "cell_type": "code",
   "execution_count": 11,
   "metadata": {},
   "outputs": [
    {
     "name": "stdout",
     "output_type": "stream",
     "text": [
      "total chars: 27\n"
     ]
    }
   ],
   "source": [
    "# Encode Data as Chars\n",
    "\n",
    "# Gather all text \n",
    "# Why? 1. See all possible characters 2. For training / splitting later\n",
    "\n",
    "text = \" \".join(text)\n",
    "\n",
    "# Unique Characters\n",
    "\n",
    "# chars = list(set(text))\n",
    "chars = sorted(list(set(text)))\n",
    "\n",
    "print('total chars:', len(chars))\n",
    "char_int = dict((c, i) for i, c in enumerate(chars))\n",
    "int_char = dict((i, c) for i, c in enumerate(chars))"
   ]
  },
  {
   "cell_type": "code",
   "execution_count": 12,
   "metadata": {},
   "outputs": [
    {
     "data": {
      "text/plain": [
       "[' ',\n",
       " 'a',\n",
       " 'b',\n",
       " 'c',\n",
       " 'd',\n",
       " 'e',\n",
       " 'f',\n",
       " 'g',\n",
       " 'h',\n",
       " 'i',\n",
       " 'j',\n",
       " 'k',\n",
       " 'l',\n",
       " 'm',\n",
       " 'n',\n",
       " 'o',\n",
       " 'p',\n",
       " 'q',\n",
       " 'r',\n",
       " 's',\n",
       " 't',\n",
       " 'u',\n",
       " 'v',\n",
       " 'w',\n",
       " 'x',\n",
       " 'y',\n",
       " 'z']"
      ]
     },
     "execution_count": 12,
     "metadata": {},
     "output_type": "execute_result"
    }
   ],
   "source": [
    "chars"
   ]
  },
  {
   "cell_type": "code",
   "execution_count": 13,
   "metadata": {},
   "outputs": [
    {
     "name": "stdout",
     "output_type": "stream",
     "text": [
      "nb sequences: 190083\n"
     ]
    }
   ],
   "source": [
    "# cut the text in semi-redundant sentences of maxlen characters\n",
    "# Create the sequence data\n",
    "maxlen = 40\n",
    "step = 5\n",
    "\n",
    "encoded = [char_int[c] for c in text]\n",
    "\n",
    "sentences = [] # Each element is 40 chars long\n",
    "next_chars = [] # One element for each sequence\n",
    "\n",
    "for i in range(0, len(encoded) - maxlen, step):\n",
    "    \n",
    "    sentences.append(encoded[i: i + maxlen])\n",
    "    next_chars.append(encoded[i + maxlen])\n",
    "    \n",
    "print('nb sequences:', len(sentences))"
   ]
  },
  {
   "cell_type": "code",
   "execution_count": 14,
   "metadata": {
    "collapsed": true
   },
   "outputs": [
    {
     "data": {
      "text/plain": [
       "[0,\n",
       " 0,\n",
       " 0,\n",
       " 0,\n",
       " 18,\n",
       " 0,\n",
       " 15,\n",
       " 0,\n",
       " 19,\n",
       " 0,\n",
       " 1,\n",
       " 0,\n",
       " 12,\n",
       " 0,\n",
       " 9,\n",
       " 0,\n",
       " 14,\n",
       " 0,\n",
       " 4,\n",
       " 0,\n",
       " 0,\n",
       " 0,\n",
       " 23,\n",
       " 0,\n",
       " 8,\n",
       " 0,\n",
       " 25,\n",
       " 0,\n",
       " 0,\n",
       " 0,\n",
       " 20,\n",
       " 0,\n",
       " 8,\n",
       " 0,\n",
       " 5,\n",
       " 0,\n",
       " 14,\n",
       " 0,\n",
       " 0,\n",
       " 0]"
      ]
     },
     "execution_count": 14,
     "metadata": {},
     "output_type": "execute_result"
    }
   ],
   "source": [
    "sentences[0]"
   ]
  },
  {
   "cell_type": "code",
   "execution_count": 15,
   "metadata": {},
   "outputs": [
    {
     "name": "stdout",
     "output_type": "stream",
     "text": [
      "Vectorization...\n"
     ]
    }
   ],
   "source": [
    "# Create x & y\n",
    "print('Vectorization...')\n",
    "x = np.zeros((len(sentences), maxlen, len(chars)), dtype=np.bool)\n",
    "y = np.zeros((len(sentences), len(chars)), dtype=np.bool)\n",
    "\n",
    "for i, sentence in enumerate(sentences):\n",
    "    for t, char in enumerate(sentence):\n",
    "        x[i, t, char] = 1\n",
    "        \n",
    "    y[i, next_chars[i]] = 1"
   ]
  },
  {
   "cell_type": "code",
   "execution_count": 16,
   "metadata": {},
   "outputs": [
    {
     "data": {
      "text/plain": [
       "(190083, 40, 27)"
      ]
     },
     "execution_count": 16,
     "metadata": {},
     "output_type": "execute_result"
    }
   ],
   "source": [
    "x.shape"
   ]
  },
  {
   "cell_type": "code",
   "execution_count": 17,
   "metadata": {},
   "outputs": [
    {
     "data": {
      "text/plain": [
       "(190083, 27)"
      ]
     },
     "execution_count": 17,
     "metadata": {},
     "output_type": "execute_result"
    }
   ],
   "source": [
    "y.shape"
   ]
  },
  {
   "cell_type": "code",
   "execution_count": 18,
   "metadata": {},
   "outputs": [
    {
     "name": "stdout",
     "output_type": "stream",
     "text": [
      "Model: \"sequential\"\n",
      "_________________________________________________________________\n",
      "Layer (type)                 Output Shape              Param #   \n",
      "=================================================================\n",
      "lstm (LSTM)                  (None, 128)               79872     \n",
      "_________________________________________________________________\n",
      "dense (Dense)                (None, 27)                3483      \n",
      "=================================================================\n",
      "Total params: 83,355\n",
      "Trainable params: 83,355\n",
      "Non-trainable params: 0\n",
      "_________________________________________________________________\n"
     ]
    }
   ],
   "source": [
    "# build the model: a single LSTM\n",
    "model = Sequential()\n",
    "model.add(LSTM(128, input_shape=(maxlen, len(chars))))\n",
    "model.add(Dense(len(chars), activation='softmax'))\n",
    "model.compile(loss='categorical_crossentropy', \n",
    "              optimizer='adam',\n",
    "              metrics=['accuracy'])\n",
    "\n",
    "model.summary()"
   ]
  },
  {
   "cell_type": "code",
   "execution_count": 19,
   "metadata": {},
   "outputs": [],
   "source": [
    "def sample(preds):\n",
    "    # helper function to sample an index from a probability array\n",
    "    preds = np.asarray(preds).astype('float64')\n",
    "    preds = np.log(preds) / 1\n",
    "    exp_preds = np.exp(preds)\n",
    "    preds = exp_preds / np.sum(exp_preds)\n",
    "    probas = np.random.multinomial(1, preds, 1)\n",
    "    return np.argmax(probas)"
   ]
  },
  {
   "cell_type": "code",
   "execution_count": 20,
   "metadata": {},
   "outputs": [],
   "source": [
    "def on_epoch_end(epoch, _):\n",
    "    # Function invoked at end of each epoch. Prints generated text.\n",
    "    \n",
    "    print()\n",
    "    print('----- Generating text after Epoch: %d' % epoch)\n",
    "    \n",
    "    start_index = random.randint(0, len(text) - maxlen - 1)\n",
    "    \n",
    "    generated = ''\n",
    "    \n",
    "    sentence = text[start_index: start_index + maxlen]\n",
    "    generated += sentence\n",
    "    \n",
    "    print('----- Generating with seed: \"' + sentence + '\"')\n",
    "    sys.stdout.write(generated)\n",
    "    \n",
    "    for i in range(50):\n",
    "        x_pred = np.zeros((1, maxlen, len(chars)))\n",
    "        for t, char in enumerate(sentence):\n",
    "            x_pred[0, t, char_int[char]] = 1\n",
    "            \n",
    "        preds = model.predict(x_pred, verbose=0)[0]\n",
    "        next_index = sample(preds)\n",
    "        next_char = int_char[next_index]\n",
    "        \n",
    "        sentence = sentence[1:] + next_char\n",
    "        \n",
    "        sys.stdout.write(next_char)\n",
    "        sys.stdout.flush()\n",
    "    print()\n",
    "\n",
    "\n",
    "print_callback = LambdaCallback(on_epoch_end=on_epoch_end)"
   ]
  },
  {
   "cell_type": "code",
   "execution_count": 21,
   "metadata": {},
   "outputs": [
    {
     "name": "stdout",
     "output_type": "stream",
     "text": [
      "Train on 190083 samples\n",
      "Epoch 1/25\n",
      "190080/190083 [============================>.] - ETA: 0s - loss: 1.1535 - accuracy: 0.6667\n",
      "----- Generating text after Epoch: 0\n",
      "----- Generating with seed: \"e y i n g   g u s t s   w e   h a v e   \"\n",
      "e y i n g   g u s t s   w e   h a v e   h i u s   s e p h e   e b e   h a v e   i   m e   \n",
      "190083/190083 [==============================] - 233s 1ms/sample - loss: 1.1535 - accuracy: 0.6666\n",
      "Epoch 2/25\n",
      "190080/190083 [============================>.] - ETA: 0s - loss: 0.9618 - accuracy: 0.7111\n",
      "----- Generating text after Epoch: 1\n",
      "----- Generating with seed: \" y o u r   r i n g   w h i c h   i n   m\"\n",
      " y o u r   r i n g   w h i c h   i n   m y   c o r d o r   c a c e   y o u           l i t\n",
      "190083/190083 [==============================] - 212s 1ms/sample - loss: 0.9619 - accuracy: 0.7111\n",
      "Epoch 3/25\n",
      "190048/190083 [============================>.] - ETA: 0s - loss: 0.8895 - accuracy: 0.7326\n",
      "----- Generating text after Epoch: 2\n",
      "----- Generating with seed: \"        j u n i u s   b r u t u s   a n \"\n",
      "        j u n i u s   b r u t u s   a n d   i t   b r o t t e r   i t   u p   y o u   d i \n",
      "190083/190083 [==============================] - 211s 1ms/sample - loss: 0.8895 - accuracy: 0.7326\n",
      "Epoch 4/25\n",
      "190080/190083 [============================>.] - ETA: 0s - loss: 0.8393 - accuracy: 0.7468\n",
      "----- Generating text after Epoch: 3\n",
      "----- Generating with seed: \"  m a d a m       v o l u m n i a   h e \"\n",
      "  m a d a m       v o l u m n i a   h e a d   h i s   d o r b o r d   b e t s e i n g   o \n",
      "190083/190083 [==============================] - 17070s 90ms/sample - loss: 0.8393 - accuracy: 0.7468\n",
      "Epoch 5/25\n",
      "190048/190083 [============================>.] - ETA: 1s - loss: 0.8031 - accuracy: 0.7578\n",
      "----- Generating text after Epoch: 4\n",
      "----- Generating with seed: \"e y e s   t a k e   n o t i c e   t h a \"\n",
      "e y e s   t a k e   n o t i c e   t h a t   a   l a k e   i n   e v e   h a v e   a n d   \n",
      "190083/190083 [==============================] - 5849s 31ms/sample - loss: 0.8031 - accuracy: 0.7578\n",
      "Epoch 6/25\n",
      "190080/190083 [============================>.] - ETA: 0s - loss: 0.7765 - accuracy: 0.7644\n",
      "----- Generating text after Epoch: 5\n",
      "----- Generating with seed: \" o   b e   m e r r y   i   k n o w   a  \"\n",
      " o   b e   m e r r y   i   k n o w   a   r e s t p l i c e l l e l y   a n d   b e   i t  \n",
      "190083/190083 [==============================] - 215s 1ms/sample - loss: 0.7765 - accuracy: 0.7644\n",
      "Epoch 7/25\n",
      "190080/190083 [============================>.] - ETA: 0s - loss: 0.7548 - accuracy: 0.7696\n",
      "----- Generating text after Epoch: 6\n",
      "----- Generating with seed: \" e e r f u l   w i p e   t h i n e   e y\"\n",
      " e e r f u l   w i p e   t h i n e   e y e   a n d   w i t h   o f   e v e e c h s        \n",
      "190083/190083 [==============================] - 218s 1ms/sample - loss: 0.7549 - accuracy: 0.7696\n",
      "Epoch 8/25\n",
      "190080/190083 [============================>.] - ETA: 0s - loss: 0.7368 - accuracy: 0.7735\n",
      "----- Generating text after Epoch: 7\n",
      "----- Generating with seed: \"  g a i n   b y   y o u       c o r i o \"\n",
      "  g a i n   b y   y o u       c o r i o l a n u s   a p p i c t           a n a t t e   a \n",
      "190083/190083 [==============================] - 3173s 17ms/sample - loss: 0.7368 - accuracy: 0.7735\n",
      "Epoch 9/25\n",
      "190080/190083 [============================>.] - ETA: 0s - loss: 0.7211 - accuracy: 0.7782\n",
      "----- Generating text after Epoch: 8\n",
      "----- Generating with seed: \" l a r i o   t w o   l o r d s   o f   c\"\n",
      " l a r i o   t w o   l o r d s   o f   c o n s u a l   w a s   h e a r t   t o   b e   h e\n",
      "190083/190083 [==============================] - 225s 1ms/sample - loss: 0.7211 - accuracy: 0.7782\n",
      "Epoch 10/25\n",
      "190048/190083 [============================>.] - ETA: 0s - loss: 0.7081 - accuracy: 0.7814\n",
      "----- Generating text after Epoch: 9\n",
      "----- Generating with seed: \"           a l l o w   t h e i r   o f f\"\n",
      "           a l l o w   t h e i r   o f f i p t o o n   f i r s t   s o   t h a t   i   c a\n",
      "190083/190083 [==============================] - 213s 1ms/sample - loss: 0.7081 - accuracy: 0.7814\n",
      "Epoch 11/25\n",
      "190080/190083 [============================>.] - ETA: 0s - loss: 0.6963 - accuracy: 0.7847\n",
      "----- Generating text after Epoch: 10\n",
      "----- Generating with seed: \"   c l a m o u r   o f   t h e   h o s t\"\n",
      "   c l a m o u r   o f   t h e   h o s t   y e s      re a r t   e r j o l r e d          \n",
      "190083/190083 [==============================] - 207s 1ms/sample - loss: 0.6963 - accuracy: 0.7847\n",
      "Epoch 12/25\n",
      "190080/190083 [============================>.] - ETA: 0s - loss: 0.6858 - accuracy: 0.7869\n",
      "----- Generating text after Epoch: 11\n",
      "----- Generating with seed: \"  w o r d       m a r c i u s   h e   t \"\n",
      "  w o r d       m a r c i u s   h e   t h e   d i s c o d g e s   a   w a s t i n g   d o \n",
      "190083/190083 [==============================] - 222s 1ms/sample - loss: 0.6858 - accuracy: 0.7869\n",
      "Epoch 13/25\n",
      "190080/190083 [============================>.] - ETA: 0s - loss: 0.6762 - accuracy: 0.7894\n",
      "----- Generating text after Epoch: 12\n",
      "----- Generating with seed: \"a k e   w e a r   t h i s   i t   i s   \"\n",
      "a k e   w e a r   t h i s   i t   i s   b a l o n   o f f e s s   a n d   m i n e   y o u \n",
      "190083/190083 [==============================] - 278s 1ms/sample - loss: 0.6762 - accuracy: 0.7894\n",
      "Epoch 14/25\n",
      "190048/190083 [============================>.] - ETA: 0s - loss: 0.6675 - accuracy: 0.7920\n",
      "----- Generating text after Epoch: 13\n",
      "----- Generating with seed: \"r e s   n o   m o r e   t o   b e   s a \"\n",
      "r e s   n o   m o r e   t o   b e   s a b e e t s   l a r m   a y   h e e t   d i v e s s \n",
      "190083/190083 [==============================] - 245s 1ms/sample - loss: 0.6675 - accuracy: 0.7920\n",
      "Epoch 15/25\n",
      "190048/190083 [============================>.] - ETA: 0s - loss: 0.6593 - accuracy: 0.7935\n",
      "----- Generating text after Epoch: 14\n",
      "----- Generating with seed: \" f o u n d           s c a l i n g   h i\"\n",
      " f o u n d           s c a l i n g   h i s   t h o u g h t   h e   c o u l d s a i n d   n\n",
      "190083/190083 [==============================] - 244s 1ms/sample - loss: 0.6594 - accuracy: 0.7935\n",
      "Epoch 16/25\n",
      "190048/190083 [============================>.] - ETA: 0s - loss: 0.6523 - accuracy: 0.7956\n",
      "----- Generating text after Epoch: 15\n",
      "----- Generating with seed: \"t o   f i n d   u s   o   m y   l o r d \"\n",
      "t o   f i n d   u s   o   m y   l o r d           o f   p r e s i n g           w h o   s \n",
      "190083/190083 [==============================] - 266s 1ms/sample - loss: 0.6523 - accuracy: 0.7956\n",
      "Epoch 17/25\n",
      "190080/190083 [============================>.] - ETA: 0s - loss: 0.6454 - accuracy: 0.7974\n",
      "----- Generating text after Epoch: 16\n",
      "----- Generating with seed: \"  t h e e   i m o g e n   t h y   m o t \"\n",
      "  t h e e   i m o g e n   t h y   m o t h e r   a   n o u g h t   t h e y   s o   n o b l \n",
      "190083/190083 [==============================] - 244s 1ms/sample - loss: 0.6454 - accuracy: 0.7974\n",
      "Epoch 18/25\n",
      "190080/190083 [============================>.] - ETA: 0s - loss: 0.6390 - accuracy: 0.7992\n",
      "----- Generating text after Epoch: 17\n",
      "----- Generating with seed: \" n   t h e s e   e r r o r s   a r e   a\"\n",
      " n   t h e s e   e r r o r s   a r e   a s   b r i t a i d   i t   t o   c h a i n   b r o\n",
      "190083/190083 [==============================] - 234s 1ms/sample - loss: 0.6390 - accuracy: 0.7992\n",
      "Epoch 19/25\n",
      "190048/190083 [============================>.] - ETA: 0s - loss: 0.6334 - accuracy: 0.8011\n",
      "----- Generating text after Epoch: 18\n",
      "----- Generating with seed: \"    g o o d   e n o u g h   f o r   h i \"\n",
      "    g o o d   e n o u g h   f o r   h i m       f i r s t   t i g e t i o n s   a n d   t \n",
      "190083/190083 [==============================] - 233s 1ms/sample - loss: 0.6334 - accuracy: 0.8011\n",
      "Epoch 20/25\n",
      "190080/190083 [============================>.] - ETA: 0s - loss: 0.6278 - accuracy: 0.8025\n",
      "----- Generating text after Epoch: 19\n",
      "----- Generating with seed: \"h e   s k y   c h a n g e s   w h e n   \"\n",
      "h e   s k y   c h a n g e s   w h e n   t o   a m   h i s   g i s a l     o   b e t   y i \n",
      "190083/190083 [==============================] - 254s 1ms/sample - loss: 0.6278 - accuracy: 0.8024\n",
      "Epoch 21/25\n"
     ]
    },
    {
     "name": "stdout",
     "output_type": "stream",
     "text": [
      "190048/190083 [============================>.] - ETA: 0s - loss: 0.6233 - accuracy: 0.8034\n",
      "----- Generating text after Epoch: 20\n",
      "----- Generating with seed: \"h e r   l i p s   i n   o p e n i n g   \"\n",
      "h e r   l i p s   i n   o p e n i n g   l i k e   a   p o s t h u m u s   c o n s w h a t \n",
      "190083/190083 [==============================] - 258s 1ms/sample - loss: 0.6232 - accuracy: 0.8034\n",
      "Epoch 22/25\n",
      "190080/190083 [============================>.] - ETA: 0s - loss: 0.6176 - accuracy: 0.8054\n",
      "----- Generating text after Epoch: 21\n",
      "----- Generating with seed: \"  b r o t h e r   d o   n o t   a s   s \"\n",
      "  b r o t h e r   d o   n o t   a s   s a i d   a r m y   y o u   s u c h   e v e n   h i \n",
      "190083/190083 [==============================] - 218s 1ms/sample - loss: 0.6176 - accuracy: 0.8054\n",
      "Epoch 23/25\n",
      "190080/190083 [============================>.] - ETA: 0s - loss: 0.6139 - accuracy: 0.8061\n",
      "----- Generating text after Epoch: 22\n",
      "----- Generating with seed: \"  a n d   d e w s   o f   b l o o d   d \"\n",
      "  a n d   d e w s   o f   b l o o d   d e s i r v e s t   o f   e r e   t h a t   b r e a \n",
      "190083/190083 [==============================] - 222s 1ms/sample - loss: 0.6139 - accuracy: 0.8061\n",
      "Epoch 24/25\n",
      "190080/190083 [============================>.] - ETA: 0s - loss: 0.6086 - accuracy: 0.8078\n",
      "----- Generating text after Epoch: 23\n",
      "----- Generating with seed: \"m p a s s       s e c o n d   c i t i z \"\n",
      "m p a s s       s e c o n d   c i t i z e n   i t           a n d   l i f e   w h y   s h \n",
      "190083/190083 [==============================] - 227s 1ms/sample - loss: 0.6086 - accuracy: 0.8078\n",
      "Epoch 25/25\n",
      "190080/190083 [============================>.] - ETA: 0s - loss: 0.6049 - accuracy: 0.8084\n",
      "----- Generating text after Epoch: 24\n",
      "----- Generating with seed: \"s a y i n g   i t     a d r i a n a   i \"\n",
      "s a y i n g   i t     a d r i a n a   i   c a y   h o w   u s l y   m a d e   y o u   d o \n",
      "190083/190083 [==============================] - 232s 1ms/sample - loss: 0.6049 - accuracy: 0.8084\n"
     ]
    }
   ],
   "source": [
    "# fit the model\n",
    "history = model.fit(x, y,\n",
    "          batch_size=32,\n",
    "          epochs=25,\n",
    "          callbacks=[print_callback])"
   ]
  },
  {
   "cell_type": "code",
   "execution_count": 25,
   "metadata": {},
   "outputs": [
    {
     "data": {
      "image/png": "[encoded data removed]",
      "text/plain": [
       "<Figure size 432x288 with 1 Axes>"
      ]
     },
     "metadata": {},
     "output_type": "display_data"
    }
   ],
   "source": [
    "# Plot training loss and accuracyloss values\n",
    "plt.plot(history.history['loss'])\n",
    "plt.plot(history.history['accuracy'])\n",
    "plt.title('Model loss & accuracy')\n",
    "plt.ylabel('Loss')\n",
    "plt.xlabel('Epoch')\n",
    "plt.legend(['Loss', 'Accuracy'], loc='upper left')\n",
    "plt.show();"
   ]
  },
  {
   "cell_type": "markdown",
   "metadata": {
    "colab_type": "text",
    "id": "zE4a4O7Bp5x1"
   },
   "source": [
    "# Resources and Stretch Goals"
   ]
  },
  {
   "cell_type": "markdown",
   "metadata": {
    "colab_type": "text",
    "id": "uT3UV3gap9H6"
   },
   "source": [
    "## Stretch goals:\n",
    "- Refine the training and generation of text to be able to ask for different genres/styles of Shakespearean text (e.g. plays versus sonnets)\n",
    "- Train a classification model that takes text and returns which work of Shakespeare it is most likely to be from\n",
    "- Make it more performant! Many possible routes here - lean on Keras, optimize the code, and/or use more resources (AWS, etc.)\n",
    "- Revisit the news example from class, and improve it - use categories or tags to refine the model/generation, or train a news classifier\n",
    "- Run on bigger, better data\n",
    "\n",
    "## Resources:\n",
    "- [The Unreasonable Effectiveness of Recurrent Neural Networks](https://karpathy.github.io/2015/05/21/rnn-effectiveness/) - a seminal writeup demonstrating a simple but effective character-level NLP RNN\n",
    "- [Simple NumPy implementation of RNN](https://github.com/JY-Yoon/RNN-Implementation-using-NumPy/blob/master/RNN%20Implementation%20using%20NumPy.ipynb) - Python 3 version of the code from \"Unreasonable Effectiveness\"\n",
    "- [TensorFlow RNN Tutorial](https://github.com/tensorflow/models/tree/master/tutorials/rnn) - code for training a RNN on the Penn Tree Bank language dataset\n",
    "- [4 part tutorial on RNN](http://www.wildml.com/2015/09/recurrent-neural-networks-tutorial-part-1-introduction-to-rnns/) - relates RNN to the vanishing gradient problem, and provides example implementation\n",
    "- [RNN training tips and tricks](https://github.com/karpathy/char-rnn#tips-and-tricks) - some rules of thumb for parameterizing and training your RNN"
   ]
  }
 ],
 "metadata": {
  "kernelspec": {
   "display_name": "U4-S1-NLP (Python3)",
   "language": "python",
   "name": "u4-s1-nlp"
  },
  "language_info": {
   "codemirror_mode": {
    "name": "ipython",
    "version": 3
   },
   "file_extension": ".py",
   "mimetype": "text/x-python",
   "name": "python",
   "nbconvert_exporter": "python",
   "pygments_lexer": "ipython3",
   "version": "3.7.0"
  }
 },
 "nbformat": 4,
 "nbformat_minor": 2
}
